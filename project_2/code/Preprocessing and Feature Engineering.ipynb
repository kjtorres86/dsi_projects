{
 "cells": [
  {
   "cell_type": "markdown",
   "metadata": {},
   "source": [
    "## Pre-processing\n",
    "- One-hot encode categorical variables.\n",
    "- Train/test split your data.\n",
    "- Scale your data.\n",
    "- Consider using automated feature selection."
   ]
  },
  {
   "cell_type": "code",
   "execution_count": 1,
   "metadata": {},
   "outputs": [
    {
     "name": "stderr",
     "output_type": "stream",
     "text": [
      "/Users/johnsmith/opt/anaconda3/lib/python3.7/site-packages/statsmodels/tools/_testing.py:19: FutureWarning: pandas.util.testing is deprecated. Use the functions in the public API at pandas.testing instead.\n",
      "  import pandas.util.testing as tm\n"
     ]
    }
   ],
   "source": [
    "import numpy as np\n",
    "import scipy.stats as stats\n",
    "import seaborn as sns\n",
    "import matplotlib.pylab as plt\n",
    "import pandas as pd\n",
    "\n",
    "from sklearn.linear_model import LinearRegression, LogisticRegression\n",
    "from sklearn.model_selection import train_test_split, KFold, cross_val_score\n",
    "from sklearn.metrics import mean_squared_error, r2_score\n",
    "\n",
    "from sklearn.preprocessing import StandardScaler, PolynomialFeatures\n",
    "from sklearn.linear_model import Ridge, RidgeCV ,Lasso, LassoCV, ElasticNet, ElasticNetCV\n",
    "\n",
    "%matplotlib inline"
   ]
  },
  {
   "cell_type": "code",
   "execution_count": 2,
   "metadata": {},
   "outputs": [],
   "source": [
    "train_df = pd.read_csv('../datasets/train_df.csv', index_col=0, keep_default_na=False, \n",
    "                       dtype={'MS SubClass': np.object, \n",
    "                              'Id' : np.object, \n",
    "                              'PID': np.object})\n",
    "test_df = pd.read_csv('../datasets/test_df.csv', index_col=0, keep_default_na=False, \n",
    "                      dtype={'MS SubClass': np.object, \n",
    "                             'Id' : np.object, \n",
    "                             'PID': np.object})"
   ]
  },
  {
   "cell_type": "code",
   "execution_count": 3,
   "metadata": {},
   "outputs": [
    {
     "data": {
      "text/plain": [
       "(2049, 81)"
      ]
     },
     "execution_count": 3,
     "metadata": {},
     "output_type": "execute_result"
    }
   ],
   "source": [
    "train_df.shape"
   ]
  },
  {
   "cell_type": "code",
   "execution_count": 4,
   "metadata": {},
   "outputs": [
    {
     "data": {
      "text/plain": [
       "(879, 80)"
      ]
     },
     "execution_count": 4,
     "metadata": {},
     "output_type": "execute_result"
    }
   ],
   "source": [
    "test_df.shape"
   ]
  },
  {
   "cell_type": "code",
   "execution_count": 5,
   "metadata": {},
   "outputs": [
    {
     "data": {
      "text/html": [
       "<div>\n",
       "<style scoped>\n",
       "    .dataframe tbody tr th:only-of-type {\n",
       "        vertical-align: middle;\n",
       "    }\n",
       "\n",
       "    .dataframe tbody tr th {\n",
       "        vertical-align: top;\n",
       "    }\n",
       "\n",
       "    .dataframe thead th {\n",
       "        text-align: right;\n",
       "    }\n",
       "</style>\n",
       "<table border=\"1\" class=\"dataframe\">\n",
       "  <thead>\n",
       "    <tr style=\"text-align: right;\">\n",
       "      <th></th>\n",
       "      <th>Id</th>\n",
       "      <th>PID</th>\n",
       "      <th>MS SubClass</th>\n",
       "      <th>MS Zoning</th>\n",
       "      <th>Lot Frontage</th>\n",
       "      <th>Lot Area</th>\n",
       "      <th>Street</th>\n",
       "      <th>Alley</th>\n",
       "      <th>Lot Shape</th>\n",
       "      <th>Land Contour</th>\n",
       "      <th>...</th>\n",
       "      <th>Screen Porch</th>\n",
       "      <th>Pool Area</th>\n",
       "      <th>Pool QC</th>\n",
       "      <th>Fence</th>\n",
       "      <th>Misc Feature</th>\n",
       "      <th>Misc Val</th>\n",
       "      <th>Mo Sold</th>\n",
       "      <th>Yr Sold</th>\n",
       "      <th>Sale Type</th>\n",
       "      <th>SalePrice</th>\n",
       "    </tr>\n",
       "  </thead>\n",
       "  <tbody>\n",
       "    <tr>\n",
       "      <th>0</th>\n",
       "      <td>109</td>\n",
       "      <td>533352170</td>\n",
       "      <td>60</td>\n",
       "      <td>RL</td>\n",
       "      <td></td>\n",
       "      <td>13517</td>\n",
       "      <td>Pave</td>\n",
       "      <td>NA</td>\n",
       "      <td>IR1</td>\n",
       "      <td>Lvl</td>\n",
       "      <td>...</td>\n",
       "      <td>0</td>\n",
       "      <td>0</td>\n",
       "      <td>NA</td>\n",
       "      <td>NA</td>\n",
       "      <td>NA</td>\n",
       "      <td>0</td>\n",
       "      <td>3</td>\n",
       "      <td>2010</td>\n",
       "      <td>WD</td>\n",
       "      <td>130500</td>\n",
       "    </tr>\n",
       "    <tr>\n",
       "      <th>1</th>\n",
       "      <td>544</td>\n",
       "      <td>531379050</td>\n",
       "      <td>60</td>\n",
       "      <td>RL</td>\n",
       "      <td>43.0</td>\n",
       "      <td>11492</td>\n",
       "      <td>Pave</td>\n",
       "      <td>NA</td>\n",
       "      <td>IR1</td>\n",
       "      <td>Lvl</td>\n",
       "      <td>...</td>\n",
       "      <td>0</td>\n",
       "      <td>0</td>\n",
       "      <td>NA</td>\n",
       "      <td>NA</td>\n",
       "      <td>NA</td>\n",
       "      <td>0</td>\n",
       "      <td>4</td>\n",
       "      <td>2009</td>\n",
       "      <td>WD</td>\n",
       "      <td>220000</td>\n",
       "    </tr>\n",
       "    <tr>\n",
       "      <th>2</th>\n",
       "      <td>153</td>\n",
       "      <td>535304180</td>\n",
       "      <td>20</td>\n",
       "      <td>RL</td>\n",
       "      <td>68.0</td>\n",
       "      <td>7922</td>\n",
       "      <td>Pave</td>\n",
       "      <td>NA</td>\n",
       "      <td>Reg</td>\n",
       "      <td>Lvl</td>\n",
       "      <td>...</td>\n",
       "      <td>0</td>\n",
       "      <td>0</td>\n",
       "      <td>NA</td>\n",
       "      <td>NA</td>\n",
       "      <td>NA</td>\n",
       "      <td>0</td>\n",
       "      <td>1</td>\n",
       "      <td>2010</td>\n",
       "      <td>WD</td>\n",
       "      <td>109000</td>\n",
       "    </tr>\n",
       "    <tr>\n",
       "      <th>3</th>\n",
       "      <td>318</td>\n",
       "      <td>916386060</td>\n",
       "      <td>60</td>\n",
       "      <td>RL</td>\n",
       "      <td>73.0</td>\n",
       "      <td>9802</td>\n",
       "      <td>Pave</td>\n",
       "      <td>NA</td>\n",
       "      <td>Reg</td>\n",
       "      <td>Lvl</td>\n",
       "      <td>...</td>\n",
       "      <td>0</td>\n",
       "      <td>0</td>\n",
       "      <td>NA</td>\n",
       "      <td>NA</td>\n",
       "      <td>NA</td>\n",
       "      <td>0</td>\n",
       "      <td>4</td>\n",
       "      <td>2010</td>\n",
       "      <td>WD</td>\n",
       "      <td>174000</td>\n",
       "    </tr>\n",
       "    <tr>\n",
       "      <th>4</th>\n",
       "      <td>255</td>\n",
       "      <td>906425045</td>\n",
       "      <td>50</td>\n",
       "      <td>RL</td>\n",
       "      <td>82.0</td>\n",
       "      <td>14235</td>\n",
       "      <td>Pave</td>\n",
       "      <td>NA</td>\n",
       "      <td>IR1</td>\n",
       "      <td>Lvl</td>\n",
       "      <td>...</td>\n",
       "      <td>0</td>\n",
       "      <td>0</td>\n",
       "      <td>NA</td>\n",
       "      <td>NA</td>\n",
       "      <td>NA</td>\n",
       "      <td>0</td>\n",
       "      <td>3</td>\n",
       "      <td>2010</td>\n",
       "      <td>WD</td>\n",
       "      <td>138500</td>\n",
       "    </tr>\n",
       "  </tbody>\n",
       "</table>\n",
       "<p>5 rows × 81 columns</p>\n",
       "</div>"
      ],
      "text/plain": [
       "    Id        PID MS SubClass MS Zoning Lot Frontage  Lot Area Street Alley  \\\n",
       "0  109  533352170          60        RL                  13517   Pave    NA   \n",
       "1  544  531379050          60        RL         43.0     11492   Pave    NA   \n",
       "2  153  535304180          20        RL         68.0      7922   Pave    NA   \n",
       "3  318  916386060          60        RL         73.0      9802   Pave    NA   \n",
       "4  255  906425045          50        RL         82.0     14235   Pave    NA   \n",
       "\n",
       "  Lot Shape Land Contour  ... Screen Porch Pool Area Pool QC Fence  \\\n",
       "0       IR1          Lvl  ...            0         0      NA    NA   \n",
       "1       IR1          Lvl  ...            0         0      NA    NA   \n",
       "2       Reg          Lvl  ...            0         0      NA    NA   \n",
       "3       Reg          Lvl  ...            0         0      NA    NA   \n",
       "4       IR1          Lvl  ...            0         0      NA    NA   \n",
       "\n",
       "  Misc Feature Misc Val Mo Sold Yr Sold  Sale Type  SalePrice  \n",
       "0           NA        0       3    2010        WD      130500  \n",
       "1           NA        0       4    2009        WD      220000  \n",
       "2           NA        0       1    2010        WD      109000  \n",
       "3           NA        0       4    2010        WD      174000  \n",
       "4           NA        0       3    2010        WD      138500  \n",
       "\n",
       "[5 rows x 81 columns]"
      ]
     },
     "execution_count": 5,
     "metadata": {},
     "output_type": "execute_result"
    }
   ],
   "source": [
    "train_df.head()"
   ]
  },
  {
   "cell_type": "code",
   "execution_count": 6,
   "metadata": {},
   "outputs": [
    {
     "data": {
      "text/html": [
       "<div>\n",
       "<style scoped>\n",
       "    .dataframe tbody tr th:only-of-type {\n",
       "        vertical-align: middle;\n",
       "    }\n",
       "\n",
       "    .dataframe tbody tr th {\n",
       "        vertical-align: top;\n",
       "    }\n",
       "\n",
       "    .dataframe thead th {\n",
       "        text-align: right;\n",
       "    }\n",
       "</style>\n",
       "<table border=\"1\" class=\"dataframe\">\n",
       "  <thead>\n",
       "    <tr style=\"text-align: right;\">\n",
       "      <th></th>\n",
       "      <th>Id</th>\n",
       "      <th>PID</th>\n",
       "      <th>MS SubClass</th>\n",
       "      <th>MS Zoning</th>\n",
       "      <th>Lot Frontage</th>\n",
       "      <th>Lot Area</th>\n",
       "      <th>Street</th>\n",
       "      <th>Alley</th>\n",
       "      <th>Lot Shape</th>\n",
       "      <th>Land Contour</th>\n",
       "      <th>...</th>\n",
       "      <th>3Ssn Porch</th>\n",
       "      <th>Screen Porch</th>\n",
       "      <th>Pool Area</th>\n",
       "      <th>Pool QC</th>\n",
       "      <th>Fence</th>\n",
       "      <th>Misc Feature</th>\n",
       "      <th>Misc Val</th>\n",
       "      <th>Mo Sold</th>\n",
       "      <th>Yr Sold</th>\n",
       "      <th>Sale Type</th>\n",
       "    </tr>\n",
       "  </thead>\n",
       "  <tbody>\n",
       "    <tr>\n",
       "      <th>0</th>\n",
       "      <td>2658</td>\n",
       "      <td>902301120</td>\n",
       "      <td>190</td>\n",
       "      <td>RM</td>\n",
       "      <td>69.0</td>\n",
       "      <td>9142</td>\n",
       "      <td>Pave</td>\n",
       "      <td>Grvl</td>\n",
       "      <td>Reg</td>\n",
       "      <td>Lvl</td>\n",
       "      <td>...</td>\n",
       "      <td>0</td>\n",
       "      <td>0</td>\n",
       "      <td>0</td>\n",
       "      <td>NA</td>\n",
       "      <td>NA</td>\n",
       "      <td>NA</td>\n",
       "      <td>0</td>\n",
       "      <td>4</td>\n",
       "      <td>2006</td>\n",
       "      <td>WD</td>\n",
       "    </tr>\n",
       "    <tr>\n",
       "      <th>1</th>\n",
       "      <td>2718</td>\n",
       "      <td>905108090</td>\n",
       "      <td>90</td>\n",
       "      <td>RL</td>\n",
       "      <td>NA</td>\n",
       "      <td>9662</td>\n",
       "      <td>Pave</td>\n",
       "      <td>NA</td>\n",
       "      <td>IR1</td>\n",
       "      <td>Lvl</td>\n",
       "      <td>...</td>\n",
       "      <td>0</td>\n",
       "      <td>0</td>\n",
       "      <td>0</td>\n",
       "      <td>NA</td>\n",
       "      <td>NA</td>\n",
       "      <td>NA</td>\n",
       "      <td>0</td>\n",
       "      <td>8</td>\n",
       "      <td>2006</td>\n",
       "      <td>WD</td>\n",
       "    </tr>\n",
       "    <tr>\n",
       "      <th>2</th>\n",
       "      <td>2414</td>\n",
       "      <td>528218130</td>\n",
       "      <td>60</td>\n",
       "      <td>RL</td>\n",
       "      <td>58.0</td>\n",
       "      <td>17104</td>\n",
       "      <td>Pave</td>\n",
       "      <td>NA</td>\n",
       "      <td>IR1</td>\n",
       "      <td>Lvl</td>\n",
       "      <td>...</td>\n",
       "      <td>0</td>\n",
       "      <td>0</td>\n",
       "      <td>0</td>\n",
       "      <td>NA</td>\n",
       "      <td>NA</td>\n",
       "      <td>NA</td>\n",
       "      <td>0</td>\n",
       "      <td>9</td>\n",
       "      <td>2006</td>\n",
       "      <td>New</td>\n",
       "    </tr>\n",
       "    <tr>\n",
       "      <th>3</th>\n",
       "      <td>1989</td>\n",
       "      <td>902207150</td>\n",
       "      <td>30</td>\n",
       "      <td>RM</td>\n",
       "      <td>60.0</td>\n",
       "      <td>8520</td>\n",
       "      <td>Pave</td>\n",
       "      <td>NA</td>\n",
       "      <td>Reg</td>\n",
       "      <td>Lvl</td>\n",
       "      <td>...</td>\n",
       "      <td>0</td>\n",
       "      <td>0</td>\n",
       "      <td>0</td>\n",
       "      <td>NA</td>\n",
       "      <td>NA</td>\n",
       "      <td>NA</td>\n",
       "      <td>0</td>\n",
       "      <td>7</td>\n",
       "      <td>2007</td>\n",
       "      <td>WD</td>\n",
       "    </tr>\n",
       "    <tr>\n",
       "      <th>4</th>\n",
       "      <td>625</td>\n",
       "      <td>535105100</td>\n",
       "      <td>20</td>\n",
       "      <td>RL</td>\n",
       "      <td>NA</td>\n",
       "      <td>9500</td>\n",
       "      <td>Pave</td>\n",
       "      <td>NA</td>\n",
       "      <td>IR1</td>\n",
       "      <td>Lvl</td>\n",
       "      <td>...</td>\n",
       "      <td>0</td>\n",
       "      <td>185</td>\n",
       "      <td>0</td>\n",
       "      <td>NA</td>\n",
       "      <td>NA</td>\n",
       "      <td>NA</td>\n",
       "      <td>0</td>\n",
       "      <td>7</td>\n",
       "      <td>2009</td>\n",
       "      <td>WD</td>\n",
       "    </tr>\n",
       "  </tbody>\n",
       "</table>\n",
       "<p>5 rows × 80 columns</p>\n",
       "</div>"
      ],
      "text/plain": [
       "     Id        PID MS SubClass MS Zoning Lot Frontage  Lot Area Street Alley  \\\n",
       "0  2658  902301120         190        RM         69.0      9142   Pave  Grvl   \n",
       "1  2718  905108090          90        RL           NA      9662   Pave    NA   \n",
       "2  2414  528218130          60        RL         58.0     17104   Pave    NA   \n",
       "3  1989  902207150          30        RM         60.0      8520   Pave    NA   \n",
       "4   625  535105100          20        RL           NA      9500   Pave    NA   \n",
       "\n",
       "  Lot Shape Land Contour  ... 3Ssn Porch Screen Porch Pool Area Pool QC Fence  \\\n",
       "0       Reg          Lvl  ...          0            0         0      NA    NA   \n",
       "1       IR1          Lvl  ...          0            0         0      NA    NA   \n",
       "2       IR1          Lvl  ...          0            0         0      NA    NA   \n",
       "3       Reg          Lvl  ...          0            0         0      NA    NA   \n",
       "4       IR1          Lvl  ...          0          185         0      NA    NA   \n",
       "\n",
       "  Misc Feature Misc Val Mo Sold  Yr Sold  Sale Type  \n",
       "0           NA        0       4     2006        WD   \n",
       "1           NA        0       8     2006        WD   \n",
       "2           NA        0       9     2006        New  \n",
       "3           NA        0       7     2007        WD   \n",
       "4           NA        0       7     2009        WD   \n",
       "\n",
       "[5 rows x 80 columns]"
      ]
     },
     "execution_count": 6,
     "metadata": {},
     "output_type": "execute_result"
    }
   ],
   "source": [
    "test_df.head()"
   ]
  },
  {
   "cell_type": "code",
   "execution_count": 7,
   "metadata": {},
   "outputs": [
    {
     "name": "stdout",
     "output_type": "stream",
     "text": [
      "<class 'pandas.core.frame.DataFrame'>\n",
      "Int64Index: 2049 entries, 0 to 2050\n",
      "Data columns (total 81 columns):\n",
      " #   Column           Non-Null Count  Dtype  \n",
      "---  ------           --------------  -----  \n",
      " 0   Id               2049 non-null   object \n",
      " 1   PID              2049 non-null   object \n",
      " 2   MS SubClass      2049 non-null   object \n",
      " 3   MS Zoning        2049 non-null   object \n",
      " 4   Lot Frontage     2049 non-null   object \n",
      " 5   Lot Area         2049 non-null   int64  \n",
      " 6   Street           2049 non-null   object \n",
      " 7   Alley            2049 non-null   object \n",
      " 8   Lot Shape        2049 non-null   object \n",
      " 9   Land Contour     2049 non-null   object \n",
      " 10  Utilities        2049 non-null   object \n",
      " 11  Lot Config       2049 non-null   object \n",
      " 12  Land Slope       2049 non-null   object \n",
      " 13  Neighborhood     2049 non-null   object \n",
      " 14  Condition 1      2049 non-null   object \n",
      " 15  Condition 2      2049 non-null   object \n",
      " 16  Bldg Type        2049 non-null   object \n",
      " 17  House Style      2049 non-null   object \n",
      " 18  Overall Qual     2049 non-null   int64  \n",
      " 19  Overall Cond     2049 non-null   int64  \n",
      " 20  Year Built       2049 non-null   int64  \n",
      " 21  Year Remod/Add   2049 non-null   int64  \n",
      " 22  Roof Style       2049 non-null   object \n",
      " 23  Roof Matl        2049 non-null   object \n",
      " 24  Exterior 1st     2049 non-null   object \n",
      " 25  Exterior 2nd     2049 non-null   object \n",
      " 26  Mas Vnr Type     2049 non-null   object \n",
      " 27  Mas Vnr Area     2049 non-null   object \n",
      " 28  Exter Qual       2049 non-null   object \n",
      " 29  Exter Cond       2049 non-null   object \n",
      " 30  Foundation       2049 non-null   object \n",
      " 31  Bsmt Qual        2049 non-null   object \n",
      " 32  Bsmt Cond        2049 non-null   object \n",
      " 33  Bsmt Exposure    2049 non-null   object \n",
      " 34  BsmtFin Type 1   2049 non-null   object \n",
      " 35  BsmtFin SF 1     2049 non-null   float64\n",
      " 36  BsmtFin Type 2   2049 non-null   object \n",
      " 37  BsmtFin SF 2     2049 non-null   float64\n",
      " 38  Bsmt Unf SF      2049 non-null   float64\n",
      " 39  Total Bsmt SF    2049 non-null   float64\n",
      " 40  Heating          2049 non-null   object \n",
      " 41  Heating QC       2049 non-null   object \n",
      " 42  Central Air      2049 non-null   object \n",
      " 43  Electrical       2049 non-null   object \n",
      " 44  1st Flr SF       2049 non-null   int64  \n",
      " 45  2nd Flr SF       2049 non-null   int64  \n",
      " 46  Low Qual Fin SF  2049 non-null   int64  \n",
      " 47  Gr Liv Area      2049 non-null   int64  \n",
      " 48  Bsmt Full Bath   2049 non-null   int64  \n",
      " 49  Bsmt Half Bath   2049 non-null   int64  \n",
      " 50  Full Bath        2049 non-null   int64  \n",
      " 51  Half Bath        2049 non-null   int64  \n",
      " 52  Bedroom AbvGr    2049 non-null   int64  \n",
      " 53  Kitchen AbvGr    2049 non-null   int64  \n",
      " 54  Kitchen Qual     2049 non-null   object \n",
      " 55  TotRms AbvGrd    2049 non-null   int64  \n",
      " 56  Functional       2049 non-null   object \n",
      " 57  Fireplaces       2049 non-null   int64  \n",
      " 58  Fireplace Qu     2049 non-null   object \n",
      " 59  Garage Type      2049 non-null   object \n",
      " 60  Garage Yr Blt    2049 non-null   object \n",
      " 61  Garage Finish    2049 non-null   object \n",
      " 62  Garage Cars      2049 non-null   int64  \n",
      " 63  Garage Area      2049 non-null   int64  \n",
      " 64  Garage Qual      2049 non-null   object \n",
      " 65  Garage Cond      2049 non-null   object \n",
      " 66  Paved Drive      2049 non-null   object \n",
      " 67  Wood Deck SF     2049 non-null   int64  \n",
      " 68  Open Porch SF    2049 non-null   int64  \n",
      " 69  Enclosed Porch   2049 non-null   int64  \n",
      " 70  3Ssn Porch       2049 non-null   int64  \n",
      " 71  Screen Porch     2049 non-null   int64  \n",
      " 72  Pool Area        2049 non-null   int64  \n",
      " 73  Pool QC          2049 non-null   object \n",
      " 74  Fence            2049 non-null   object \n",
      " 75  Misc Feature     2049 non-null   object \n",
      " 76  Misc Val         2049 non-null   int64  \n",
      " 77  Mo Sold          2049 non-null   int64  \n",
      " 78  Yr Sold          2049 non-null   int64  \n",
      " 79  Sale Type        2049 non-null   object \n",
      " 80  SalePrice        2049 non-null   int64  \n",
      "dtypes: float64(4), int64(29), object(48)\n",
      "memory usage: 1.3+ MB\n"
     ]
    }
   ],
   "source": [
    "train_df.info()"
   ]
  },
  {
   "cell_type": "markdown",
   "metadata": {},
   "source": [
    "## Get dummies for categorical variables"
   ]
  },
  {
   "cell_type": "code",
   "execution_count": 8,
   "metadata": {},
   "outputs": [
    {
     "data": {
      "text/html": [
       "<div>\n",
       "<style scoped>\n",
       "    .dataframe tbody tr th:only-of-type {\n",
       "        vertical-align: middle;\n",
       "    }\n",
       "\n",
       "    .dataframe tbody tr th {\n",
       "        vertical-align: top;\n",
       "    }\n",
       "\n",
       "    .dataframe thead th {\n",
       "        text-align: right;\n",
       "    }\n",
       "</style>\n",
       "<table border=\"1\" class=\"dataframe\">\n",
       "  <thead>\n",
       "    <tr style=\"text-align: right;\">\n",
       "      <th></th>\n",
       "      <th>Id</th>\n",
       "      <th>PID</th>\n",
       "      <th>MS SubClass</th>\n",
       "      <th>MS Zoning</th>\n",
       "      <th>Lot Frontage</th>\n",
       "      <th>Street</th>\n",
       "      <th>Alley</th>\n",
       "      <th>Lot Shape</th>\n",
       "      <th>Land Contour</th>\n",
       "      <th>Utilities</th>\n",
       "      <th>...</th>\n",
       "      <th>Garage Type</th>\n",
       "      <th>Garage Yr Blt</th>\n",
       "      <th>Garage Finish</th>\n",
       "      <th>Garage Qual</th>\n",
       "      <th>Garage Cond</th>\n",
       "      <th>Paved Drive</th>\n",
       "      <th>Pool QC</th>\n",
       "      <th>Fence</th>\n",
       "      <th>Misc Feature</th>\n",
       "      <th>Sale Type</th>\n",
       "    </tr>\n",
       "  </thead>\n",
       "  <tbody>\n",
       "    <tr>\n",
       "      <th>0</th>\n",
       "      <td>109</td>\n",
       "      <td>533352170</td>\n",
       "      <td>60</td>\n",
       "      <td>RL</td>\n",
       "      <td></td>\n",
       "      <td>Pave</td>\n",
       "      <td>NA</td>\n",
       "      <td>IR1</td>\n",
       "      <td>Lvl</td>\n",
       "      <td>AllPub</td>\n",
       "      <td>...</td>\n",
       "      <td>Attchd</td>\n",
       "      <td>1976.0</td>\n",
       "      <td>RFn</td>\n",
       "      <td>TA</td>\n",
       "      <td>TA</td>\n",
       "      <td>Y</td>\n",
       "      <td>NA</td>\n",
       "      <td>NA</td>\n",
       "      <td>NA</td>\n",
       "      <td>WD</td>\n",
       "    </tr>\n",
       "    <tr>\n",
       "      <th>1</th>\n",
       "      <td>544</td>\n",
       "      <td>531379050</td>\n",
       "      <td>60</td>\n",
       "      <td>RL</td>\n",
       "      <td>43.0</td>\n",
       "      <td>Pave</td>\n",
       "      <td>NA</td>\n",
       "      <td>IR1</td>\n",
       "      <td>Lvl</td>\n",
       "      <td>AllPub</td>\n",
       "      <td>...</td>\n",
       "      <td>Attchd</td>\n",
       "      <td>1997.0</td>\n",
       "      <td>RFn</td>\n",
       "      <td>TA</td>\n",
       "      <td>TA</td>\n",
       "      <td>Y</td>\n",
       "      <td>NA</td>\n",
       "      <td>NA</td>\n",
       "      <td>NA</td>\n",
       "      <td>WD</td>\n",
       "    </tr>\n",
       "    <tr>\n",
       "      <th>2</th>\n",
       "      <td>153</td>\n",
       "      <td>535304180</td>\n",
       "      <td>20</td>\n",
       "      <td>RL</td>\n",
       "      <td>68.0</td>\n",
       "      <td>Pave</td>\n",
       "      <td>NA</td>\n",
       "      <td>Reg</td>\n",
       "      <td>Lvl</td>\n",
       "      <td>AllPub</td>\n",
       "      <td>...</td>\n",
       "      <td>Detchd</td>\n",
       "      <td>1953.0</td>\n",
       "      <td>Unf</td>\n",
       "      <td>TA</td>\n",
       "      <td>TA</td>\n",
       "      <td>Y</td>\n",
       "      <td>NA</td>\n",
       "      <td>NA</td>\n",
       "      <td>NA</td>\n",
       "      <td>WD</td>\n",
       "    </tr>\n",
       "    <tr>\n",
       "      <th>3</th>\n",
       "      <td>318</td>\n",
       "      <td>916386060</td>\n",
       "      <td>60</td>\n",
       "      <td>RL</td>\n",
       "      <td>73.0</td>\n",
       "      <td>Pave</td>\n",
       "      <td>NA</td>\n",
       "      <td>Reg</td>\n",
       "      <td>Lvl</td>\n",
       "      <td>AllPub</td>\n",
       "      <td>...</td>\n",
       "      <td>BuiltIn</td>\n",
       "      <td>2007.0</td>\n",
       "      <td>Fin</td>\n",
       "      <td>TA</td>\n",
       "      <td>TA</td>\n",
       "      <td>Y</td>\n",
       "      <td>NA</td>\n",
       "      <td>NA</td>\n",
       "      <td>NA</td>\n",
       "      <td>WD</td>\n",
       "    </tr>\n",
       "    <tr>\n",
       "      <th>4</th>\n",
       "      <td>255</td>\n",
       "      <td>906425045</td>\n",
       "      <td>50</td>\n",
       "      <td>RL</td>\n",
       "      <td>82.0</td>\n",
       "      <td>Pave</td>\n",
       "      <td>NA</td>\n",
       "      <td>IR1</td>\n",
       "      <td>Lvl</td>\n",
       "      <td>AllPub</td>\n",
       "      <td>...</td>\n",
       "      <td>Detchd</td>\n",
       "      <td>1957.0</td>\n",
       "      <td>Unf</td>\n",
       "      <td>TA</td>\n",
       "      <td>TA</td>\n",
       "      <td>N</td>\n",
       "      <td>NA</td>\n",
       "      <td>NA</td>\n",
       "      <td>NA</td>\n",
       "      <td>WD</td>\n",
       "    </tr>\n",
       "  </tbody>\n",
       "</table>\n",
       "<p>5 rows × 48 columns</p>\n",
       "</div>"
      ],
      "text/plain": [
       "    Id        PID MS SubClass MS Zoning Lot Frontage Street Alley Lot Shape  \\\n",
       "0  109  533352170          60        RL                Pave    NA       IR1   \n",
       "1  544  531379050          60        RL         43.0   Pave    NA       IR1   \n",
       "2  153  535304180          20        RL         68.0   Pave    NA       Reg   \n",
       "3  318  916386060          60        RL         73.0   Pave    NA       Reg   \n",
       "4  255  906425045          50        RL         82.0   Pave    NA       IR1   \n",
       "\n",
       "  Land Contour Utilities  ... Garage Type Garage Yr Blt Garage Finish  \\\n",
       "0          Lvl    AllPub  ...      Attchd        1976.0           RFn   \n",
       "1          Lvl    AllPub  ...      Attchd        1997.0           RFn   \n",
       "2          Lvl    AllPub  ...      Detchd        1953.0           Unf   \n",
       "3          Lvl    AllPub  ...     BuiltIn        2007.0           Fin   \n",
       "4          Lvl    AllPub  ...      Detchd        1957.0           Unf   \n",
       "\n",
       "  Garage Qual Garage Cond Paved Drive Pool QC Fence Misc Feature Sale Type  \n",
       "0          TA          TA           Y      NA    NA           NA       WD   \n",
       "1          TA          TA           Y      NA    NA           NA       WD   \n",
       "2          TA          TA           Y      NA    NA           NA       WD   \n",
       "3          TA          TA           Y      NA    NA           NA       WD   \n",
       "4          TA          TA           N      NA    NA           NA       WD   \n",
       "\n",
       "[5 rows x 48 columns]"
      ]
     },
     "execution_count": 8,
     "metadata": {},
     "output_type": "execute_result"
    }
   ],
   "source": [
    "draft_categorical = train_df.select_dtypes(include=['object'])\n",
    "draft_categorical.head()"
   ]
  },
  {
   "cell_type": "code",
   "execution_count": 9,
   "metadata": {},
   "outputs": [],
   "source": [
    "num_to_cat = train_df.loc[:,['Id','Overall Qual', 'Overall Cond', 'Garage Cars', 'Year Built', 'Year Remod/Add', \n",
    "                           'Bsmt Full Bath', 'Bsmt Half Bath', 'Full Bath', 'Half Bath', 'Bedroom AbvGr', \n",
    "                           'Kitchen AbvGr', 'TotRms AbvGrd', 'Fireplaces', 'Garage Yr Blt', 'Mo Sold', \n",
    "                           'Yr Sold', 'SalePrice']]"
   ]
  },
  {
   "cell_type": "code",
   "execution_count": 10,
   "metadata": {},
   "outputs": [],
   "source": [
    "categorical = draft_categorical.drop(['PID'], axis=1)"
   ]
  },
  {
   "cell_type": "code",
   "execution_count": 11,
   "metadata": {},
   "outputs": [],
   "source": [
    "categorical = pd.merge(draft_categorical, num_to_cat, on='Id')"
   ]
  },
  {
   "cell_type": "code",
   "execution_count": 12,
   "metadata": {},
   "outputs": [
    {
     "name": "stdout",
     "output_type": "stream",
     "text": [
      "<class 'pandas.core.frame.DataFrame'>\n",
      "Int64Index: 2049 entries, 0 to 2048\n",
      "Data columns (total 65 columns):\n",
      " #   Column           Non-Null Count  Dtype \n",
      "---  ------           --------------  ----- \n",
      " 0   Id               2049 non-null   object\n",
      " 1   PID              2049 non-null   object\n",
      " 2   MS SubClass      2049 non-null   object\n",
      " 3   MS Zoning        2049 non-null   object\n",
      " 4   Lot Frontage     2049 non-null   object\n",
      " 5   Street           2049 non-null   object\n",
      " 6   Alley            2049 non-null   object\n",
      " 7   Lot Shape        2049 non-null   object\n",
      " 8   Land Contour     2049 non-null   object\n",
      " 9   Utilities        2049 non-null   object\n",
      " 10  Lot Config       2049 non-null   object\n",
      " 11  Land Slope       2049 non-null   object\n",
      " 12  Neighborhood     2049 non-null   object\n",
      " 13  Condition 1      2049 non-null   object\n",
      " 14  Condition 2      2049 non-null   object\n",
      " 15  Bldg Type        2049 non-null   object\n",
      " 16  House Style      2049 non-null   object\n",
      " 17  Roof Style       2049 non-null   object\n",
      " 18  Roof Matl        2049 non-null   object\n",
      " 19  Exterior 1st     2049 non-null   object\n",
      " 20  Exterior 2nd     2049 non-null   object\n",
      " 21  Mas Vnr Type     2049 non-null   object\n",
      " 22  Mas Vnr Area     2049 non-null   object\n",
      " 23  Exter Qual       2049 non-null   object\n",
      " 24  Exter Cond       2049 non-null   object\n",
      " 25  Foundation       2049 non-null   object\n",
      " 26  Bsmt Qual        2049 non-null   object\n",
      " 27  Bsmt Cond        2049 non-null   object\n",
      " 28  Bsmt Exposure    2049 non-null   object\n",
      " 29  BsmtFin Type 1   2049 non-null   object\n",
      " 30  BsmtFin Type 2   2049 non-null   object\n",
      " 31  Heating          2049 non-null   object\n",
      " 32  Heating QC       2049 non-null   object\n",
      " 33  Central Air      2049 non-null   object\n",
      " 34  Electrical       2049 non-null   object\n",
      " 35  Kitchen Qual     2049 non-null   object\n",
      " 36  Functional       2049 non-null   object\n",
      " 37  Fireplace Qu     2049 non-null   object\n",
      " 38  Garage Type      2049 non-null   object\n",
      " 39  Garage Yr Blt_x  2049 non-null   object\n",
      " 40  Garage Finish    2049 non-null   object\n",
      " 41  Garage Qual      2049 non-null   object\n",
      " 42  Garage Cond      2049 non-null   object\n",
      " 43  Paved Drive      2049 non-null   object\n",
      " 44  Pool QC          2049 non-null   object\n",
      " 45  Fence            2049 non-null   object\n",
      " 46  Misc Feature     2049 non-null   object\n",
      " 47  Sale Type        2049 non-null   object\n",
      " 48  Overall Qual     2049 non-null   int64 \n",
      " 49  Overall Cond     2049 non-null   int64 \n",
      " 50  Garage Cars      2049 non-null   int64 \n",
      " 51  Year Built       2049 non-null   int64 \n",
      " 52  Year Remod/Add   2049 non-null   int64 \n",
      " 53  Bsmt Full Bath   2049 non-null   int64 \n",
      " 54  Bsmt Half Bath   2049 non-null   int64 \n",
      " 55  Full Bath        2049 non-null   int64 \n",
      " 56  Half Bath        2049 non-null   int64 \n",
      " 57  Bedroom AbvGr    2049 non-null   int64 \n",
      " 58  Kitchen AbvGr    2049 non-null   int64 \n",
      " 59  TotRms AbvGrd    2049 non-null   int64 \n",
      " 60  Fireplaces       2049 non-null   int64 \n",
      " 61  Garage Yr Blt_y  2049 non-null   object\n",
      " 62  Mo Sold          2049 non-null   int64 \n",
      " 63  Yr Sold          2049 non-null   int64 \n",
      " 64  SalePrice        2049 non-null   int64 \n",
      "dtypes: int64(16), object(49)\n",
      "memory usage: 1.0+ MB\n"
     ]
    }
   ],
   "source": [
    "categorical.info()"
   ]
  },
  {
   "cell_type": "code",
   "execution_count": 69,
   "metadata": {},
   "outputs": [],
   "source": [
    "#categorical = pd.get_dummies(categorical)"
   ]
  },
  {
   "cell_type": "code",
   "execution_count": 70,
   "metadata": {},
   "outputs": [
    {
     "data": {
      "text/html": [
       "<div>\n",
       "<style scoped>\n",
       "    .dataframe tbody tr th:only-of-type {\n",
       "        vertical-align: middle;\n",
       "    }\n",
       "\n",
       "    .dataframe tbody tr th {\n",
       "        vertical-align: top;\n",
       "    }\n",
       "\n",
       "    .dataframe thead th {\n",
       "        text-align: right;\n",
       "    }\n",
       "</style>\n",
       "<table border=\"1\" class=\"dataframe\">\n",
       "  <thead>\n",
       "    <tr style=\"text-align: right;\">\n",
       "      <th></th>\n",
       "      <th>Overall Qual</th>\n",
       "      <th>Overall Cond</th>\n",
       "      <th>Garage Cars</th>\n",
       "      <th>Year Built</th>\n",
       "      <th>Year Remod/Add</th>\n",
       "      <th>Bsmt Full Bath</th>\n",
       "      <th>Bsmt Half Bath</th>\n",
       "      <th>Full Bath</th>\n",
       "      <th>Half Bath</th>\n",
       "      <th>Bedroom AbvGr</th>\n",
       "      <th>...</th>\n",
       "      <th>Garage Yr Blt_y_2002.0</th>\n",
       "      <th>Garage Yr Blt_y_2003.0</th>\n",
       "      <th>Garage Yr Blt_y_2004.0</th>\n",
       "      <th>Garage Yr Blt_y_2005.0</th>\n",
       "      <th>Garage Yr Blt_y_2006.0</th>\n",
       "      <th>Garage Yr Blt_y_2007.0</th>\n",
       "      <th>Garage Yr Blt_y_2008.0</th>\n",
       "      <th>Garage Yr Blt_y_2009.0</th>\n",
       "      <th>Garage Yr Blt_y_2010.0</th>\n",
       "      <th>Garage Yr Blt_y_2207.0</th>\n",
       "    </tr>\n",
       "  </thead>\n",
       "  <tbody>\n",
       "    <tr>\n",
       "      <th>0</th>\n",
       "      <td>6</td>\n",
       "      <td>8</td>\n",
       "      <td>2</td>\n",
       "      <td>1976</td>\n",
       "      <td>2005</td>\n",
       "      <td>0</td>\n",
       "      <td>0</td>\n",
       "      <td>2</td>\n",
       "      <td>1</td>\n",
       "      <td>3</td>\n",
       "      <td>...</td>\n",
       "      <td>0</td>\n",
       "      <td>0</td>\n",
       "      <td>0</td>\n",
       "      <td>0</td>\n",
       "      <td>0</td>\n",
       "      <td>0</td>\n",
       "      <td>0</td>\n",
       "      <td>0</td>\n",
       "      <td>0</td>\n",
       "      <td>0</td>\n",
       "    </tr>\n",
       "    <tr>\n",
       "      <th>1</th>\n",
       "      <td>7</td>\n",
       "      <td>5</td>\n",
       "      <td>2</td>\n",
       "      <td>1996</td>\n",
       "      <td>1997</td>\n",
       "      <td>1</td>\n",
       "      <td>0</td>\n",
       "      <td>2</td>\n",
       "      <td>1</td>\n",
       "      <td>4</td>\n",
       "      <td>...</td>\n",
       "      <td>0</td>\n",
       "      <td>0</td>\n",
       "      <td>0</td>\n",
       "      <td>0</td>\n",
       "      <td>0</td>\n",
       "      <td>0</td>\n",
       "      <td>0</td>\n",
       "      <td>0</td>\n",
       "      <td>0</td>\n",
       "      <td>0</td>\n",
       "    </tr>\n",
       "    <tr>\n",
       "      <th>2</th>\n",
       "      <td>5</td>\n",
       "      <td>7</td>\n",
       "      <td>1</td>\n",
       "      <td>1953</td>\n",
       "      <td>2007</td>\n",
       "      <td>1</td>\n",
       "      <td>0</td>\n",
       "      <td>1</td>\n",
       "      <td>0</td>\n",
       "      <td>3</td>\n",
       "      <td>...</td>\n",
       "      <td>0</td>\n",
       "      <td>0</td>\n",
       "      <td>0</td>\n",
       "      <td>0</td>\n",
       "      <td>0</td>\n",
       "      <td>0</td>\n",
       "      <td>0</td>\n",
       "      <td>0</td>\n",
       "      <td>0</td>\n",
       "      <td>0</td>\n",
       "    </tr>\n",
       "    <tr>\n",
       "      <th>3</th>\n",
       "      <td>5</td>\n",
       "      <td>5</td>\n",
       "      <td>2</td>\n",
       "      <td>2006</td>\n",
       "      <td>2007</td>\n",
       "      <td>0</td>\n",
       "      <td>0</td>\n",
       "      <td>2</td>\n",
       "      <td>1</td>\n",
       "      <td>3</td>\n",
       "      <td>...</td>\n",
       "      <td>0</td>\n",
       "      <td>0</td>\n",
       "      <td>0</td>\n",
       "      <td>0</td>\n",
       "      <td>0</td>\n",
       "      <td>1</td>\n",
       "      <td>0</td>\n",
       "      <td>0</td>\n",
       "      <td>0</td>\n",
       "      <td>0</td>\n",
       "    </tr>\n",
       "    <tr>\n",
       "      <th>4</th>\n",
       "      <td>6</td>\n",
       "      <td>8</td>\n",
       "      <td>2</td>\n",
       "      <td>1900</td>\n",
       "      <td>1993</td>\n",
       "      <td>0</td>\n",
       "      <td>0</td>\n",
       "      <td>2</td>\n",
       "      <td>0</td>\n",
       "      <td>3</td>\n",
       "      <td>...</td>\n",
       "      <td>0</td>\n",
       "      <td>0</td>\n",
       "      <td>0</td>\n",
       "      <td>0</td>\n",
       "      <td>0</td>\n",
       "      <td>0</td>\n",
       "      <td>0</td>\n",
       "      <td>0</td>\n",
       "      <td>0</td>\n",
       "      <td>0</td>\n",
       "    </tr>\n",
       "  </tbody>\n",
       "</table>\n",
       "<p>5 rows × 5095 columns</p>\n",
       "</div>"
      ],
      "text/plain": [
       "   Overall Qual  Overall Cond  Garage Cars  Year Built  Year Remod/Add  \\\n",
       "0             6             8            2        1976            2005   \n",
       "1             7             5            2        1996            1997   \n",
       "2             5             7            1        1953            2007   \n",
       "3             5             5            2        2006            2007   \n",
       "4             6             8            2        1900            1993   \n",
       "\n",
       "   Bsmt Full Bath  Bsmt Half Bath  Full Bath  Half Bath  Bedroom AbvGr  ...  \\\n",
       "0               0               0          2          1              3  ...   \n",
       "1               1               0          2          1              4  ...   \n",
       "2               1               0          1          0              3  ...   \n",
       "3               0               0          2          1              3  ...   \n",
       "4               0               0          2          0              3  ...   \n",
       "\n",
       "   Garage Yr Blt_y_2002.0  Garage Yr Blt_y_2003.0  Garage Yr Blt_y_2004.0  \\\n",
       "0                       0                       0                       0   \n",
       "1                       0                       0                       0   \n",
       "2                       0                       0                       0   \n",
       "3                       0                       0                       0   \n",
       "4                       0                       0                       0   \n",
       "\n",
       "   Garage Yr Blt_y_2005.0  Garage Yr Blt_y_2006.0  Garage Yr Blt_y_2007.0  \\\n",
       "0                       0                       0                       0   \n",
       "1                       0                       0                       0   \n",
       "2                       0                       0                       0   \n",
       "3                       0                       0                       1   \n",
       "4                       0                       0                       0   \n",
       "\n",
       "   Garage Yr Blt_y_2008.0  Garage Yr Blt_y_2009.0  Garage Yr Blt_y_2010.0  \\\n",
       "0                       0                       0                       0   \n",
       "1                       0                       0                       0   \n",
       "2                       0                       0                       0   \n",
       "3                       0                       0                       0   \n",
       "4                       0                       0                       0   \n",
       "\n",
       "   Garage Yr Blt_y_2207.0  \n",
       "0                       0  \n",
       "1                       0  \n",
       "2                       0  \n",
       "3                       0  \n",
       "4                       0  \n",
       "\n",
       "[5 rows x 5095 columns]"
      ]
     },
     "execution_count": 70,
     "metadata": {},
     "output_type": "execute_result"
    }
   ],
   "source": [
    "categorical.head()"
   ]
  },
  {
   "cell_type": "code",
   "execution_count": 71,
   "metadata": {},
   "outputs": [
    {
     "name": "stdout",
     "output_type": "stream",
     "text": [
      "SalePrice            1.000000\n",
      "Overall Qual         0.800028\n",
      "Garage Cars          0.648007\n",
      "Bsmt Qual_Ex         0.586529\n",
      "Year Built           0.571726\n",
      "                       ...   \n",
      "Garage Finish_Unf   -0.432043\n",
      "Bsmt Qual_TA        -0.458068\n",
      "Fireplace Qu_NA     -0.485483\n",
      "Kitchen Qual_TA     -0.540939\n",
      "Exter Qual_TA       -0.600160\n",
      "Name: SalePrice, Length: 5095, dtype: float64\n"
     ]
    }
   ],
   "source": [
    "corr = categorical.corr()\n",
    "print(corr['SalePrice'].sort_values(ascending=False))"
   ]
  },
  {
   "cell_type": "code",
   "execution_count": null,
   "metadata": {},
   "outputs": [],
   "source": []
  },
  {
   "cell_type": "code",
   "execution_count": null,
   "metadata": {},
   "outputs": [],
   "source": []
  },
  {
   "cell_type": "code",
   "execution_count": null,
   "metadata": {},
   "outputs": [],
   "source": []
  },
  {
   "cell_type": "code",
   "execution_count": null,
   "metadata": {},
   "outputs": [],
   "source": []
  },
  {
   "cell_type": "code",
   "execution_count": null,
   "metadata": {},
   "outputs": [],
   "source": []
  },
  {
   "cell_type": "code",
   "execution_count": null,
   "metadata": {},
   "outputs": [],
   "source": []
  },
  {
   "cell_type": "code",
   "execution_count": null,
   "metadata": {},
   "outputs": [],
   "source": []
  },
  {
   "cell_type": "code",
   "execution_count": null,
   "metadata": {},
   "outputs": [],
   "source": []
  },
  {
   "cell_type": "markdown",
   "metadata": {},
   "source": [
    "Running the first Linear Regression model with only those that have shown greater than 0.5 correlation to target 'SalesPrice'"
   ]
  },
  {
   "cell_type": "code",
   "execution_count": 17,
   "metadata": {},
   "outputs": [],
   "source": [
    "X = train_df[['Gr Liv Area', 'Garage Area', 'Total Bsmt SF', '1st Flr SF']]\n",
    "y = train_df['SalePrice']"
   ]
  },
  {
   "cell_type": "code",
   "execution_count": 18,
   "metadata": {},
   "outputs": [
    {
     "data": {
      "text/plain": [
       "(2049, 4)"
      ]
     },
     "execution_count": 18,
     "metadata": {},
     "output_type": "execute_result"
    }
   ],
   "source": [
    "X.shape"
   ]
  },
  {
   "cell_type": "code",
   "execution_count": 19,
   "metadata": {},
   "outputs": [
    {
     "data": {
      "text/plain": [
       "(2049,)"
      ]
     },
     "execution_count": 19,
     "metadata": {},
     "output_type": "execute_result"
    }
   ],
   "source": [
    "y.shape"
   ]
  },
  {
   "cell_type": "code",
   "execution_count": 20,
   "metadata": {},
   "outputs": [
    {
     "data": {
      "text/plain": [
       "(1536, 4)"
      ]
     },
     "execution_count": 20,
     "metadata": {},
     "output_type": "execute_result"
    }
   ],
   "source": [
    "X_train, X_test, y_train, y_test = train_test_split(X,y)\n",
    "X_train.shape"
   ]
  },
  {
   "cell_type": "code",
   "execution_count": 21,
   "metadata": {},
   "outputs": [],
   "source": [
    "ss = StandardScaler()"
   ]
  },
  {
   "cell_type": "code",
   "execution_count": 22,
   "metadata": {},
   "outputs": [],
   "source": [
    "X_train_sc = ss.fit_transform(X_train)\n",
    "X_test_sc = ss.transform(X_test)"
   ]
  },
  {
   "cell_type": "code",
   "execution_count": 23,
   "metadata": {},
   "outputs": [],
   "source": [
    "lr = LinearRegression()\n",
    "lasso = LassoCV(n_alphas=200)"
   ]
  },
  {
   "cell_type": "code",
   "execution_count": 24,
   "metadata": {},
   "outputs": [
    {
     "data": {
      "text/plain": [
       "array([0.70274018, 0.53912219, 0.72968287, 0.73385211, 0.72643131])"
      ]
     },
     "execution_count": 24,
     "metadata": {},
     "output_type": "execute_result"
    }
   ],
   "source": [
    "lr.scores = cross_val_score(lr, X_train_sc, y_train, cv=5)\n",
    "lr.scores"
   ]
  },
  {
   "cell_type": "code",
   "execution_count": 25,
   "metadata": {},
   "outputs": [
    {
     "data": {
      "text/plain": [
       "0.6863657321655141"
      ]
     },
     "execution_count": 25,
     "metadata": {},
     "output_type": "execute_result"
    }
   ],
   "source": [
    "lr.scores.mean()"
   ]
  },
  {
   "cell_type": "code",
   "execution_count": 26,
   "metadata": {},
   "outputs": [
    {
     "data": {
      "text/plain": [
       "array([0.70267169, 0.54120341, 0.72608093, 0.73728897, 0.7260784 ])"
      ]
     },
     "execution_count": 26,
     "metadata": {},
     "output_type": "execute_result"
    }
   ],
   "source": [
    "lasso_scores = cross_val_score(lasso, X_train_sc, y_train, cv=5)\n",
    "lasso_scores"
   ]
  },
  {
   "cell_type": "code",
   "execution_count": 27,
   "metadata": {},
   "outputs": [
    {
     "data": {
      "text/plain": [
       "0.6866646812358546"
      ]
     },
     "execution_count": 27,
     "metadata": {},
     "output_type": "execute_result"
    }
   ],
   "source": [
    "lasso_scores.mean()"
   ]
  },
  {
   "cell_type": "code",
   "execution_count": 28,
   "metadata": {},
   "outputs": [
    {
     "data": {
      "text/plain": [
       "LassoCV(alphas=None, copy_X=True, cv=None, eps=0.001, fit_intercept=True,\n",
       "        max_iter=1000, n_alphas=200, n_jobs=None, normalize=False,\n",
       "        positive=False, precompute='auto', random_state=None,\n",
       "        selection='cyclic', tol=0.0001, verbose=False)"
      ]
     },
     "execution_count": 28,
     "metadata": {},
     "output_type": "execute_result"
    }
   ],
   "source": [
    "lasso.fit(X_train_sc, y_train)"
   ]
  },
  {
   "cell_type": "code",
   "execution_count": 29,
   "metadata": {},
   "outputs": [
    {
     "data": {
      "text/plain": [
       "0.7023076372355189"
      ]
     },
     "execution_count": 29,
     "metadata": {},
     "output_type": "execute_result"
    }
   ],
   "source": [
    "lasso.score(X_train_sc, y_train)"
   ]
  },
  {
   "cell_type": "code",
   "execution_count": 30,
   "metadata": {},
   "outputs": [
    {
     "data": {
      "text/plain": [
       "0.5812283304699661"
      ]
     },
     "execution_count": 30,
     "metadata": {},
     "output_type": "execute_result"
    }
   ],
   "source": [
    "lasso.score(X_test_sc, y_test)"
   ]
  },
  {
   "cell_type": "code",
   "execution_count": 64,
   "metadata": {},
   "outputs": [],
   "source": [
    "X = train_df[['Gr Liv Area', 'Garage Area', 'Total Bsmt SF']]\n",
    "y = train_df['SalePrice']"
   ]
  },
  {
   "cell_type": "code",
   "execution_count": 61,
   "metadata": {},
   "outputs": [],
   "source": [
    "X_train, X_test, y_train, y_test = train_test_split(X,y)"
   ]
  },
  {
   "cell_type": "code",
   "execution_count": 62,
   "metadata": {},
   "outputs": [],
   "source": [
    "ss = StandardScaler()"
   ]
  },
  {
   "cell_type": "code",
   "execution_count": 63,
   "metadata": {},
   "outputs": [
    {
     "ename": "ValueError",
     "evalue": "could not convert string to float: 'RL'",
     "output_type": "error",
     "traceback": [
      "\u001b[0;31m---------------------------------------------------------------------------\u001b[0m",
      "\u001b[0;31mValueError\u001b[0m                                Traceback (most recent call last)",
      "\u001b[0;32m<ipython-input-63-ad0ede34fecb>\u001b[0m in \u001b[0;36m<module>\u001b[0;34m\u001b[0m\n\u001b[0;32m----> 1\u001b[0;31m \u001b[0mX_train_sc\u001b[0m \u001b[0;34m=\u001b[0m \u001b[0mss\u001b[0m\u001b[0;34m.\u001b[0m\u001b[0mfit_transform\u001b[0m\u001b[0;34m(\u001b[0m\u001b[0mX_train\u001b[0m\u001b[0;34m)\u001b[0m\u001b[0;34m\u001b[0m\u001b[0;34m\u001b[0m\u001b[0m\n\u001b[0m\u001b[1;32m      2\u001b[0m \u001b[0mX_test_sc\u001b[0m \u001b[0;34m=\u001b[0m \u001b[0mss\u001b[0m\u001b[0;34m.\u001b[0m\u001b[0mtransform\u001b[0m\u001b[0;34m(\u001b[0m\u001b[0mX_test\u001b[0m\u001b[0;34m)\u001b[0m\u001b[0;34m\u001b[0m\u001b[0;34m\u001b[0m\u001b[0m\n",
      "\u001b[0;32m~/opt/anaconda3/lib/python3.7/site-packages/sklearn/base.py\u001b[0m in \u001b[0;36mfit_transform\u001b[0;34m(self, X, y, **fit_params)\u001b[0m\n\u001b[1;32m    569\u001b[0m         \u001b[0;32mif\u001b[0m \u001b[0my\u001b[0m \u001b[0;32mis\u001b[0m \u001b[0;32mNone\u001b[0m\u001b[0;34m:\u001b[0m\u001b[0;34m\u001b[0m\u001b[0;34m\u001b[0m\u001b[0m\n\u001b[1;32m    570\u001b[0m             \u001b[0;31m# fit method of arity 1 (unsupervised transformation)\u001b[0m\u001b[0;34m\u001b[0m\u001b[0;34m\u001b[0m\u001b[0;34m\u001b[0m\u001b[0m\n\u001b[0;32m--> 571\u001b[0;31m             \u001b[0;32mreturn\u001b[0m \u001b[0mself\u001b[0m\u001b[0;34m.\u001b[0m\u001b[0mfit\u001b[0m\u001b[0;34m(\u001b[0m\u001b[0mX\u001b[0m\u001b[0;34m,\u001b[0m \u001b[0;34m**\u001b[0m\u001b[0mfit_params\u001b[0m\u001b[0;34m)\u001b[0m\u001b[0;34m.\u001b[0m\u001b[0mtransform\u001b[0m\u001b[0;34m(\u001b[0m\u001b[0mX\u001b[0m\u001b[0;34m)\u001b[0m\u001b[0;34m\u001b[0m\u001b[0;34m\u001b[0m\u001b[0m\n\u001b[0m\u001b[1;32m    572\u001b[0m         \u001b[0;32melse\u001b[0m\u001b[0;34m:\u001b[0m\u001b[0;34m\u001b[0m\u001b[0;34m\u001b[0m\u001b[0m\n\u001b[1;32m    573\u001b[0m             \u001b[0;31m# fit method of arity 2 (supervised transformation)\u001b[0m\u001b[0;34m\u001b[0m\u001b[0;34m\u001b[0m\u001b[0;34m\u001b[0m\u001b[0m\n",
      "\u001b[0;32m~/opt/anaconda3/lib/python3.7/site-packages/sklearn/preprocessing/_data.py\u001b[0m in \u001b[0;36mfit\u001b[0;34m(self, X, y)\u001b[0m\n\u001b[1;32m    667\u001b[0m         \u001b[0;31m# Reset internal state before fitting\u001b[0m\u001b[0;34m\u001b[0m\u001b[0;34m\u001b[0m\u001b[0;34m\u001b[0m\u001b[0m\n\u001b[1;32m    668\u001b[0m         \u001b[0mself\u001b[0m\u001b[0;34m.\u001b[0m\u001b[0m_reset\u001b[0m\u001b[0;34m(\u001b[0m\u001b[0;34m)\u001b[0m\u001b[0;34m\u001b[0m\u001b[0;34m\u001b[0m\u001b[0m\n\u001b[0;32m--> 669\u001b[0;31m         \u001b[0;32mreturn\u001b[0m \u001b[0mself\u001b[0m\u001b[0;34m.\u001b[0m\u001b[0mpartial_fit\u001b[0m\u001b[0;34m(\u001b[0m\u001b[0mX\u001b[0m\u001b[0;34m,\u001b[0m \u001b[0my\u001b[0m\u001b[0;34m)\u001b[0m\u001b[0;34m\u001b[0m\u001b[0;34m\u001b[0m\u001b[0m\n\u001b[0m\u001b[1;32m    670\u001b[0m \u001b[0;34m\u001b[0m\u001b[0m\n\u001b[1;32m    671\u001b[0m     \u001b[0;32mdef\u001b[0m \u001b[0mpartial_fit\u001b[0m\u001b[0;34m(\u001b[0m\u001b[0mself\u001b[0m\u001b[0;34m,\u001b[0m \u001b[0mX\u001b[0m\u001b[0;34m,\u001b[0m \u001b[0my\u001b[0m\u001b[0;34m=\u001b[0m\u001b[0;32mNone\u001b[0m\u001b[0;34m)\u001b[0m\u001b[0;34m:\u001b[0m\u001b[0;34m\u001b[0m\u001b[0;34m\u001b[0m\u001b[0m\n",
      "\u001b[0;32m~/opt/anaconda3/lib/python3.7/site-packages/sklearn/preprocessing/_data.py\u001b[0m in \u001b[0;36mpartial_fit\u001b[0;34m(self, X, y)\u001b[0m\n\u001b[1;32m    698\u001b[0m         X = check_array(X, accept_sparse=('csr', 'csc'),\n\u001b[1;32m    699\u001b[0m                         \u001b[0mestimator\u001b[0m\u001b[0;34m=\u001b[0m\u001b[0mself\u001b[0m\u001b[0;34m,\u001b[0m \u001b[0mdtype\u001b[0m\u001b[0;34m=\u001b[0m\u001b[0mFLOAT_DTYPES\u001b[0m\u001b[0;34m,\u001b[0m\u001b[0;34m\u001b[0m\u001b[0;34m\u001b[0m\u001b[0m\n\u001b[0;32m--> 700\u001b[0;31m                         force_all_finite='allow-nan')\n\u001b[0m\u001b[1;32m    701\u001b[0m \u001b[0;34m\u001b[0m\u001b[0m\n\u001b[1;32m    702\u001b[0m         \u001b[0;31m# Even in the case of `with_mean=False`, we update the mean anyway\u001b[0m\u001b[0;34m\u001b[0m\u001b[0;34m\u001b[0m\u001b[0;34m\u001b[0m\u001b[0m\n",
      "\u001b[0;32m~/opt/anaconda3/lib/python3.7/site-packages/sklearn/utils/validation.py\u001b[0m in \u001b[0;36mcheck_array\u001b[0;34m(array, accept_sparse, accept_large_sparse, dtype, order, copy, force_all_finite, ensure_2d, allow_nd, ensure_min_samples, ensure_min_features, warn_on_dtype, estimator)\u001b[0m\n\u001b[1;32m    529\u001b[0m                     \u001b[0marray\u001b[0m \u001b[0;34m=\u001b[0m \u001b[0marray\u001b[0m\u001b[0;34m.\u001b[0m\u001b[0mastype\u001b[0m\u001b[0;34m(\u001b[0m\u001b[0mdtype\u001b[0m\u001b[0;34m,\u001b[0m \u001b[0mcasting\u001b[0m\u001b[0;34m=\u001b[0m\u001b[0;34m\"unsafe\"\u001b[0m\u001b[0;34m,\u001b[0m \u001b[0mcopy\u001b[0m\u001b[0;34m=\u001b[0m\u001b[0;32mFalse\u001b[0m\u001b[0;34m)\u001b[0m\u001b[0;34m\u001b[0m\u001b[0;34m\u001b[0m\u001b[0m\n\u001b[1;32m    530\u001b[0m                 \u001b[0;32melse\u001b[0m\u001b[0;34m:\u001b[0m\u001b[0;34m\u001b[0m\u001b[0;34m\u001b[0m\u001b[0m\n\u001b[0;32m--> 531\u001b[0;31m                     \u001b[0marray\u001b[0m \u001b[0;34m=\u001b[0m \u001b[0mnp\u001b[0m\u001b[0;34m.\u001b[0m\u001b[0masarray\u001b[0m\u001b[0;34m(\u001b[0m\u001b[0marray\u001b[0m\u001b[0;34m,\u001b[0m \u001b[0morder\u001b[0m\u001b[0;34m=\u001b[0m\u001b[0morder\u001b[0m\u001b[0;34m,\u001b[0m \u001b[0mdtype\u001b[0m\u001b[0;34m=\u001b[0m\u001b[0mdtype\u001b[0m\u001b[0;34m)\u001b[0m\u001b[0;34m\u001b[0m\u001b[0;34m\u001b[0m\u001b[0m\n\u001b[0m\u001b[1;32m    532\u001b[0m             \u001b[0;32mexcept\u001b[0m \u001b[0mComplexWarning\u001b[0m\u001b[0;34m:\u001b[0m\u001b[0;34m\u001b[0m\u001b[0;34m\u001b[0m\u001b[0m\n\u001b[1;32m    533\u001b[0m                 raise ValueError(\"Complex data not supported\\n\"\n",
      "\u001b[0;32m~/opt/anaconda3/lib/python3.7/site-packages/numpy/core/_asarray.py\u001b[0m in \u001b[0;36masarray\u001b[0;34m(a, dtype, order)\u001b[0m\n\u001b[1;32m     83\u001b[0m \u001b[0;34m\u001b[0m\u001b[0m\n\u001b[1;32m     84\u001b[0m     \"\"\"\n\u001b[0;32m---> 85\u001b[0;31m     \u001b[0;32mreturn\u001b[0m \u001b[0marray\u001b[0m\u001b[0;34m(\u001b[0m\u001b[0ma\u001b[0m\u001b[0;34m,\u001b[0m \u001b[0mdtype\u001b[0m\u001b[0;34m,\u001b[0m \u001b[0mcopy\u001b[0m\u001b[0;34m=\u001b[0m\u001b[0;32mFalse\u001b[0m\u001b[0;34m,\u001b[0m \u001b[0morder\u001b[0m\u001b[0;34m=\u001b[0m\u001b[0morder\u001b[0m\u001b[0;34m)\u001b[0m\u001b[0;34m\u001b[0m\u001b[0;34m\u001b[0m\u001b[0m\n\u001b[0m\u001b[1;32m     86\u001b[0m \u001b[0;34m\u001b[0m\u001b[0m\n\u001b[1;32m     87\u001b[0m \u001b[0;34m\u001b[0m\u001b[0m\n",
      "\u001b[0;31mValueError\u001b[0m: could not convert string to float: 'RL'"
     ]
    }
   ],
   "source": [
    "X_train_sc = ss.fit_transform(X_train)\n",
    "X_test_sc = ss.transform(X_test)"
   ]
  },
  {
   "cell_type": "code",
   "execution_count": 58,
   "metadata": {},
   "outputs": [],
   "source": [
    "lr = LinearRegression()\n",
    "lasso = LassoCV(n_alphas=200)"
   ]
  },
  {
   "cell_type": "code",
   "execution_count": 36,
   "metadata": {},
   "outputs": [
    {
     "data": {
      "text/plain": [
       "array([0.76985033, 0.76921126, 0.70602047, 0.62055795, 0.7245419 ])"
      ]
     },
     "execution_count": 36,
     "metadata": {},
     "output_type": "execute_result"
    }
   ],
   "source": [
    "lr.scores = cross_val_score(lr, X_train_sc, y_train, cv=5)\n",
    "lr.scores"
   ]
  },
  {
   "cell_type": "code",
   "execution_count": 37,
   "metadata": {},
   "outputs": [
    {
     "data": {
      "text/plain": [
       "0.7180363835716455"
      ]
     },
     "execution_count": 37,
     "metadata": {},
     "output_type": "execute_result"
    }
   ],
   "source": [
    "lr.scores.mean()"
   ]
  },
  {
   "cell_type": "code",
   "execution_count": 38,
   "metadata": {},
   "outputs": [
    {
     "data": {
      "text/plain": [
       "array([0.76988226, 0.76902436, 0.70596677, 0.62086623, 0.72457311])"
      ]
     },
     "execution_count": 38,
     "metadata": {},
     "output_type": "execute_result"
    }
   ],
   "source": [
    "lasso_scores = cross_val_score(lasso, X_train_sc, y_train, cv=5)\n",
    "lasso_scores"
   ]
  },
  {
   "cell_type": "code",
   "execution_count": 39,
   "metadata": {},
   "outputs": [
    {
     "data": {
      "text/plain": [
       "0.718062544694521"
      ]
     },
     "execution_count": 39,
     "metadata": {},
     "output_type": "execute_result"
    }
   ],
   "source": [
    "lasso_scores.mean()"
   ]
  },
  {
   "cell_type": "code",
   "execution_count": 40,
   "metadata": {},
   "outputs": [
    {
     "data": {
      "text/plain": [
       "LassoCV(alphas=None, copy_X=True, cv=None, eps=0.001, fit_intercept=True,\n",
       "        max_iter=1000, n_alphas=200, n_jobs=None, normalize=False,\n",
       "        positive=False, precompute='auto', random_state=None,\n",
       "        selection='cyclic', tol=0.0001, verbose=False)"
      ]
     },
     "execution_count": 40,
     "metadata": {},
     "output_type": "execute_result"
    }
   ],
   "source": [
    "lasso.fit(X_train_sc, y_train)"
   ]
  },
  {
   "cell_type": "code",
   "execution_count": 41,
   "metadata": {},
   "outputs": [
    {
     "data": {
      "text/plain": [
       "0.7319623115666479"
      ]
     },
     "execution_count": 41,
     "metadata": {},
     "output_type": "execute_result"
    }
   ],
   "source": [
    "lasso.score(X_train_sc, y_train)"
   ]
  },
  {
   "cell_type": "code",
   "execution_count": 42,
   "metadata": {},
   "outputs": [
    {
     "data": {
      "text/plain": [
       "0.47679127035846774"
      ]
     },
     "execution_count": 42,
     "metadata": {},
     "output_type": "execute_result"
    }
   ],
   "source": [
    "lasso.score(X_test_sc, y_test)"
   ]
  },
  {
   "cell_type": "code",
   "execution_count": 43,
   "metadata": {},
   "outputs": [
    {
     "name": "stdout",
     "output_type": "stream",
     "text": [
      "Best alpha using built-in LassoCV: 90495.839146\n",
      "Best score using built in LassoCV: 0.670551\n"
     ]
    }
   ],
   "source": [
    "reg = LassoCV()\n",
    "reg.fit(X,y)\n",
    "print(\"Best alpha using built-in LassoCV: %f\" %reg.alpha_)\n",
    "print(\"Best score using built in LassoCV: %f\" %reg.score(X,y))\n",
    "coef = pd.Series(reg.coef_, index = X.columns)"
   ]
  },
  {
   "cell_type": "code",
   "execution_count": 44,
   "metadata": {},
   "outputs": [
    {
     "name": "stdout",
     "output_type": "stream",
     "text": [
      "Lasso picked 3 variables and eliminated the other 0 variables\n"
     ]
    }
   ],
   "source": [
    "print(\"Lasso picked \" + str(sum(coef != 0)) + \n",
    "      \" variables and eliminated the other \" +  str(sum(coef == 0)) + \" variables\")"
   ]
  },
  {
   "cell_type": "code",
   "execution_count": 45,
   "metadata": {},
   "outputs": [
    {
     "data": {
      "text/plain": [
       "Text(0.5, 1.0, 'Feature importance using Lasso Model')"
      ]
     },
     "execution_count": 45,
     "metadata": {},
     "output_type": "execute_result"
    },
    {
     "data": {
      "image/png": "[encoded data removed]",
      "text/plain": [
       "<Figure size 576x720 with 1 Axes>"
      ]
     },
     "metadata": {
      "needs_background": "light"
     },
     "output_type": "display_data"
    }
   ],
   "source": [
    "imp_coef = coef.sort_values()\n",
    "import matplotlib\n",
    "matplotlib.rcParams['figure.figsize'] = (8.0, 10.0)\n",
    "imp_coef.plot(kind = \"barh\")\n",
    "plt.title(\"Feature importance using Lasso Model\")"
   ]
  },
  {
   "cell_type": "code",
   "execution_count": 46,
   "metadata": {},
   "outputs": [],
   "source": [
    "y_pred = lasso.predict(X_test_sc)"
   ]
  },
  {
   "cell_type": "code",
   "execution_count": 47,
   "metadata": {},
   "outputs": [],
   "source": [
    "test_df = pd.read_csv('../datasets/test_df.csv')"
   ]
  },
  {
   "cell_type": "code",
   "execution_count": 48,
   "metadata": {},
   "outputs": [],
   "source": [
    "X_test = test_df[['Gr Liv Area', 'Garage Area', 'Total Bsmt SF']]"
   ]
  },
  {
   "cell_type": "code",
   "execution_count": 49,
   "metadata": {},
   "outputs": [],
   "source": [
    "predictions = lasso.predict(X_test)"
   ]
  },
  {
   "cell_type": "code",
   "execution_count": 50,
   "metadata": {},
   "outputs": [
    {
     "name": "stdout",
     "output_type": "stream",
     "text": [
      "[1.05210504e+08 1.36533339e+08 7.94660339e+07 7.12501307e+07\n",
      " 9.89123815e+07 5.95105414e+07 6.92423914e+07 8.55931425e+07\n",
      " 9.44752431e+07 8.84194232e+07 8.70952359e+07 7.25456626e+07\n",
      " 9.61958255e+07 1.46981923e+08 9.27052400e+07 5.17826006e+07\n",
      " 9.21685417e+07 7.50426315e+07 1.07776986e+08 9.54570028e+07\n",
      " 7.27922479e+07 6.98047573e+07 1.13045130e+08 7.23080866e+07\n",
      " 8.90345383e+07 6.20560820e+07 8.84210955e+07 8.39650702e+07\n",
      " 7.33158323e+07 3.40067262e+07 6.84461330e+07 7.53919192e+07\n",
      " 1.44843653e+08 8.36513747e+07 1.07033283e+08 7.74022414e+07\n",
      " 9.37815020e+07 4.41654553e+07 4.31826418e+07 9.83527108e+07\n",
      " 7.09119993e+07 1.00993672e+08 8.93546225e+07 8.21765944e+07\n",
      " 1.05645490e+08 6.24165046e+07 1.00849185e+08 6.34670159e+07\n",
      " 6.57169990e+07 7.23009676e+07 7.28301978e+07 1.01452801e+08\n",
      " 1.20040253e+08 7.63862590e+07 5.97041461e+07 7.41063093e+07\n",
      " 9.75592559e+07 8.59726060e+07 8.55376993e+07 1.10360414e+08\n",
      " 1.45615195e+08 8.50890359e+07 8.02934163e+07 9.11704873e+07\n",
      " 8.74226172e+07 1.46286092e+08 5.44985173e+07 9.54738779e+07\n",
      " 4.25950286e+07 6.24297688e+07 5.40288767e+07 1.43788862e+08\n",
      " 1.10767231e+08 7.04134652e+07 7.33045632e+07 1.17850651e+08\n",
      " 2.70193924e+08 6.84399819e+07 7.99144863e+07 3.67583176e+07\n",
      " 1.29507192e+08 1.03292448e+08 6.93198534e+07 7.37907024e+07\n",
      " 8.00954319e+07 8.86446364e+07 1.57798306e+08 6.55074158e+07\n",
      " 9.13204670e+07 1.18065121e+08 8.85030487e+07 6.88081496e+07\n",
      " 7.07169598e+07 7.21316862e+07 8.75469221e+07 6.97682289e+07\n",
      " 8.55869675e+07 1.02277611e+08 1.11345775e+08 9.47942463e+07\n",
      " 9.18726571e+07 1.20514679e+08 1.01834676e+08 6.26510210e+07\n",
      " 1.74499894e+08 8.57866302e+07 4.98509754e+07 8.07482902e+07\n",
      " 1.14621883e+08 1.33539634e+08 1.16159915e+08 1.01730155e+08\n",
      " 1.07444077e+08 5.59305559e+07 7.23512013e+07 1.04899520e+08\n",
      " 1.97661645e+08 8.70210803e+07 7.23375453e+07 1.26320486e+08\n",
      " 9.18963147e+07 1.46910352e+08 1.14910442e+08 1.19231920e+08\n",
      " 8.17983085e+07 1.09239566e+08 1.41945956e+08 6.07510419e+07\n",
      " 6.88885260e+07 6.57611535e+07 1.17106075e+08 7.23292809e+07\n",
      " 9.36027817e+07 8.05152150e+07 7.66403564e+07 8.41662367e+07\n",
      " 1.24254340e+08 9.91853006e+07 8.24505698e+07 9.54738779e+07\n",
      " 5.72228971e+07 9.50934335e+07 7.33200434e+07 7.71682724e+07\n",
      " 1.08113606e+08 3.96051729e+07 1.03786423e+08 1.03237599e+08\n",
      " 7.42724105e+07 5.14946037e+07 1.21346911e+08 9.59658731e+07\n",
      " 9.16204182e+07 6.75189283e+07 6.19993077e+07 5.45269296e+07\n",
      " 7.49940162e+07 5.36786436e+07 6.58597378e+07 1.22529602e+08\n",
      " 1.27310410e+08 1.04627966e+08 6.86739426e+07 7.23351058e+07\n",
      " 1.83743004e+08 1.03204054e+08 1.14586796e+08 8.24505698e+07\n",
      " 8.15787150e+07 1.19074900e+08 1.01243843e+08 2.40565398e+08\n",
      " 7.26428933e+07 1.15891687e+08 6.95549451e+07 9.46150628e+07\n",
      " 9.53913371e+07 4.83306933e+07 1.35516153e+08 5.95105414e+07\n",
      " 8.54153204e+07 8.35459510e+07 1.02499136e+08 1.20013054e+08\n",
      " 8.20180157e+07 8.72036364e+07 6.55449532e+07 8.23582104e+07\n",
      " 1.10035698e+08 7.03785193e+07 4.36796615e+07 9.24679165e+07\n",
      " 6.51652467e+07 5.82100300e+07 6.05063469e+07 8.20707347e+07\n",
      " 6.68138042e+07 1.10449088e+08 8.42764341e+07 7.70728777e+07\n",
      " 6.24488160e+07 1.52259146e+08 1.17048475e+08 6.55314058e+07\n",
      " 9.36143153e+07 7.12188346e+07 4.48061154e+07 8.45276755e+07\n",
      " 6.76730014e+07 9.67812666e+07 1.06425278e+08 9.52371266e+07\n",
      " 1.02039211e+08 7.63328959e+07 1.42398669e+08 1.08619749e+08\n",
      " 9.46650481e+07 1.27659309e+08 7.18772377e+07 5.56774350e+07\n",
      " 7.18523601e+07 8.06311093e+07 7.87787411e+07 9.46383514e+07\n",
      " 8.20140009e+07 6.25080116e+07 6.18763885e+07 1.27767545e+08\n",
      " 1.08553893e+08 8.70311983e+07 1.35777115e+08 9.80566618e+07\n",
      " 4.00644323e+07 8.93146648e+07 5.60397462e+07 1.63238810e+08\n",
      " 8.02481643e+07 5.80167240e+07 1.62525060e+08 1.55487386e+08\n",
      " 9.52746910e+07 1.11583661e+08 9.12552660e+07 1.29689608e+08\n",
      " 1.23581279e+08 1.42688830e+08 1.22212599e+08 6.62543026e+07\n",
      " 6.48525187e+07 1.00153157e+08 1.31083691e+08 1.11660021e+08\n",
      " 8.72951272e+07 1.12023090e+08 1.11442465e+08 1.00743505e+08\n",
      " 6.65780376e+07 5.62019982e+07 1.62082222e+08 1.05873753e+08\n",
      " 1.05353810e+08 6.69746256e+07 8.17110290e+07 6.70386650e+07\n",
      " 7.95327306e+07 1.03715880e+08 9.49850919e+07 8.93617150e+07\n",
      " 9.15821702e+07 9.33286032e+07 6.37192027e+07 1.24697875e+08\n",
      " 8.93949805e+07 9.00872856e+07 1.61224031e+08 6.66237222e+07\n",
      " 8.19711177e+07 6.24297688e+07 1.00765414e+08 4.50835078e+07\n",
      " 7.19258094e+07 1.04511315e+08 7.89658248e+07 6.18421745e+07\n",
      " 5.16319273e+07 7.24314256e+07 1.01710725e+08 1.16091216e+08\n",
      " 5.36172581e+07 5.71546207e+07 8.47576165e+07 6.22079060e+07\n",
      " 6.82982381e+07 5.95105414e+07 3.83716493e+07 9.57691555e+07\n",
      " 6.24297688e+07 9.04077633e+07 1.15474808e+08 1.00637066e+08\n",
      " 9.04261779e+07 1.06137103e+08 1.32685822e+08 7.20913844e+07\n",
      " 1.09372856e+08 4.79435029e+07 6.38680110e+07 1.15816979e+08\n",
      " 9.53704809e+07 7.82494852e+07 7.12880494e+07 1.20868753e+08\n",
      " 9.67537727e+07 1.13171021e+08 1.25471844e+08 9.20670128e+07\n",
      " 1.34685596e+08 1.35067878e+08 1.16914987e+08 1.16284380e+08\n",
      " 6.93724179e+07 3.18035114e+07 8.00637499e+07 9.44729084e+07\n",
      " 1.15626993e+08 6.90123339e+07 6.98014067e+07 8.92851455e+07\n",
      " 8.14499665e+07 1.01907648e+08 8.50269606e+07 1.28406036e+08\n",
      " 9.18589620e+07 1.01483194e+08 8.82347689e+07 5.11573779e+07\n",
      " 8.97741650e+07 5.13621176e+07 8.02033503e+07 7.35732729e+07\n",
      " 5.82183651e+07 1.05212080e+08 7.32894333e+07 7.38430918e+07\n",
      " 9.21883597e+07 1.31669844e+08 1.04247549e+08 9.43031872e+07\n",
      " 6.12325253e+07 8.23199895e+07 7.83064202e+07 9.40192139e+07\n",
      " 7.72124546e+07 6.70386650e+07 1.15466670e+08 8.49563750e+07\n",
      " 1.35270438e+08 8.71877134e+07 1.04354225e+08 1.16120219e+08\n",
      " 7.54875502e+07 8.28688009e+07 1.04962508e+08 6.60206110e+07\n",
      " 1.25224531e+08 8.81714615e+07 1.12536845e+08 1.19989289e+08\n",
      " 1.10897581e+08 1.06038069e+08 7.82647132e+07 1.42620835e+08\n",
      " 5.54116882e+07 9.59055677e+07 1.59053363e+08 6.00396234e+07\n",
      " 1.25873405e+08 8.01440890e+07 1.12724390e+08 9.61316104e+07\n",
      " 7.20143016e+07 8.87656928e+07 9.84464033e+07 1.30999568e+08\n",
      " 1.33987485e+08 1.02591258e+08 9.99262174e+07 1.21803592e+08\n",
      " 7.91277718e+07 8.17520264e+07 7.65450512e+07 5.96025438e+07\n",
      " 1.25476855e+08 8.27288986e+07 9.11499239e+07 9.28851626e+07\n",
      " 4.63420058e+07 9.32905822e+07 8.39587926e+07 6.62438778e+07\n",
      " 8.22258646e+07 8.69682465e+07 1.24230125e+08 7.14717709e+07\n",
      " 1.27165755e+08 9.14534766e+07 7.12944503e+07 9.21193839e+07\n",
      " 1.03043425e+08 1.11502204e+08 7.75780628e+07 7.90704876e+07\n",
      " 8.70213748e+07 1.31721630e+08 6.74835698e+07 1.18919753e+08\n",
      " 1.39609725e+08 7.12295701e+07 1.36300619e+08 6.66237222e+07\n",
      " 1.05037663e+08 1.31787259e+08 7.31507558e+07 1.50724204e+08\n",
      " 6.48514227e+07 1.14927289e+08 1.46012964e+08 8.76650024e+07\n",
      " 9.51579480e+07 6.37480107e+07 1.18889561e+08 4.98272089e+07\n",
      " 7.34694264e+07 6.70852362e+07 8.85248220e+07 6.75665747e+07\n",
      " 1.33117466e+08 9.64507393e+07 8.53752480e+07 6.29184821e+07\n",
      " 1.00050024e+08 9.84899293e+07 8.35203660e+07 6.34853967e+07\n",
      " 8.77897269e+07 7.85490280e+07 1.01618608e+08 6.66952007e+07\n",
      " 5.26891802e+07 1.39820829e+08 6.66237222e+07 9.80592503e+07\n",
      " 1.25140171e+08 9.60215779e+07 9.84945877e+07 8.82170019e+07\n",
      " 1.02328146e+08 1.00307278e+08 7.02751311e+07 1.02898630e+08\n",
      " 6.89492415e+07 6.82792467e+07 7.33138858e+07 7.50566381e+07\n",
      " 2.36779383e+08 8.48685656e+07 1.01209484e+08 1.13367548e+08\n",
      " 1.22726522e+08 5.29421574e+07 5.72228971e+07 6.51618330e+07\n",
      " 1.19997336e+08 8.13304306e+07 6.17494956e+07 1.13209884e+08\n",
      " 1.10947430e+08 6.82975897e+07 8.81075020e+07 6.73835676e+07\n",
      " 9.15886287e+07 3.53938127e+07 1.18405677e+08 4.00644323e+07\n",
      " 8.23795409e+07 1.46309544e+08 7.99282121e+07 6.24297688e+07\n",
      " 8.62463927e+07 8.95873499e+07 7.97082103e+07 1.19698186e+08\n",
      " 1.08779341e+08 1.18499132e+08 1.14216016e+08 1.29415406e+08\n",
      " 9.66964439e+07 8.31506627e+07 7.66377795e+07 1.01675210e+08\n",
      " 8.01483076e+07 8.08355941e+07 1.08801689e+08 7.18008546e+07\n",
      " 8.68937004e+07 1.26853555e+08 6.17298219e+07 1.28133303e+08\n",
      " 6.43645321e+07 5.98064013e+07 1.20161348e+08 9.36254051e+07\n",
      " 7.83875113e+07 7.60198052e+07 7.01132396e+07 3.20030858e+07\n",
      " 9.95578016e+07 9.25773752e+07 8.40607923e+07 1.20679232e+08\n",
      " 1.30288457e+08 6.75527531e+07 9.18326073e+07 8.93574856e+07\n",
      " 7.00522593e+07 1.04279661e+08 1.68858835e+08 7.56365982e+07\n",
      " 5.78783981e+07 7.64193968e+07 3.28620022e+07 6.01407363e+07\n",
      " 8.78446786e+07 7.94295858e+07 9.00830267e+07 1.01696201e+08\n",
      " 8.12844420e+07 5.36786436e+07 1.09252313e+08 8.01131938e+07\n",
      " 9.52426865e+07 7.45497012e+07 6.05879119e+07 4.58963301e+07\n",
      " 6.83583357e+07 1.03736820e+08 1.36064979e+08 1.16506101e+08\n",
      " 5.62731940e+07 5.41066481e+07 1.18787150e+08 7.39733246e+07\n",
      " 1.20537808e+08 3.15415752e+07 1.13873875e+08 1.01565516e+08\n",
      " 4.85485833e+07 7.12771378e+07 8.58495629e+07 6.64729199e+07\n",
      " 9.00289869e+07 6.60323474e+07 7.41637094e+07 8.67734865e+07\n",
      " 8.39967393e+07 7.68285271e+07 6.58436138e+07 7.07052092e+07\n",
      " 1.20888824e+08 6.36191057e+07 6.43246339e+07 9.92543071e+07\n",
      " 6.38787077e+07 6.21632506e+07 7.03791664e+07 1.03555087e+08\n",
      " 6.16207285e+07 9.05880539e+07 6.24297688e+07 1.24428298e+08\n",
      " 6.44006792e+07 1.05855834e+08 8.58001528e+07 1.41318891e+08\n",
      " 6.86329194e+07 8.60104938e+07 8.88408072e+07 8.37290392e+07\n",
      " 7.98872270e+07 1.27224775e+08 1.06788588e+08 6.19617594e+07\n",
      " 5.05734591e+07 8.19028413e+07 8.25423623e+07 1.32139067e+08\n",
      " 1.09371052e+08 6.99570855e+07 6.84788677e+07 6.23614924e+07\n",
      " 1.29288144e+08 8.19757668e+07 1.04449005e+08 6.48907336e+07\n",
      " 8.90913192e+07 1.04232192e+08 5.36072574e+07 7.27012317e+07\n",
      " 6.67233014e+07 8.62893089e+07 7.30682243e+07 5.34430558e+07\n",
      " 1.61667065e+08 1.01328974e+08 5.08476639e+07 7.96862891e+07\n",
      " 3.54792190e+07 9.30876148e+07 1.21332214e+08 4.01252837e+07\n",
      " 6.89163725e+07 9.10627519e+07 6.17658583e+07 1.05683144e+08\n",
      " 6.28048591e+07 7.77917713e+07 8.30688485e+07 8.37470510e+07\n",
      " 7.70035138e+07 1.62351812e+08 7.17814348e+07 1.15085158e+08\n",
      " 1.14900845e+08 6.17706044e+07 5.89566118e+07 6.76681067e+07\n",
      " 8.32268968e+07 9.49617444e+07 1.01241710e+08 8.50202972e+07\n",
      " 8.61442100e+07 1.21335570e+08 6.48190458e+07 1.03882606e+08\n",
      " 1.14359170e+08 7.53461392e+07 4.63072338e+07 1.25347140e+08\n",
      " 7.90774026e+07 6.37192027e+07 9.25768586e+07 8.44363255e+07\n",
      " 5.95633803e+07 7.06616381e+07 7.62867412e+07 3.09983825e+07\n",
      " 8.52363727e+07 1.00134589e+08 1.02025503e+08 1.19656464e+08\n",
      " 1.05124789e+08 7.70146687e+07 1.05498232e+08 1.20775956e+08\n",
      " 1.12402544e+08 1.65769310e+08 1.19973485e+08 1.26312124e+08\n",
      " 1.04030761e+08 8.94143827e+07 1.44902988e+08 9.87708714e+07\n",
      " 1.58131216e+08 9.96362576e+07 9.46587170e+07 5.99282113e+07\n",
      " 7.89243152e+07 8.74017945e+07 5.95105414e+07 8.38034118e+07\n",
      " 5.67382612e+07 1.58434899e+08 9.86913664e+07 9.35088643e+07\n",
      " 1.16629000e+08 9.80592503e+07 8.66849700e+07 1.10439219e+08\n",
      " 1.38941040e+08 7.85311823e+07 1.04850161e+08 5.77834274e+07\n",
      " 6.43403604e+07 1.05809321e+08 7.05283607e+07 1.01240521e+08\n",
      " 8.41000439e+07 9.63273893e+07 1.41566139e+08 5.48783616e+07\n",
      " 1.15698945e+08 6.24297688e+07 8.10411964e+07 7.79167869e+07\n",
      " 7.13889446e+07 1.50538453e+08 1.44403603e+08 7.74592090e+07\n",
      " 8.54300125e+07 7.75076243e+07 1.22562338e+08 1.10487209e+08\n",
      " 7.16016365e+07 7.82907790e+07 7.56626602e+07 6.62718826e+07\n",
      " 1.15253478e+08 1.34976758e+08 9.80410910e+07 9.38661496e+07\n",
      " 1.13611019e+08 1.00959554e+08 1.12615923e+08 6.92268862e+07\n",
      " 6.87486851e+07 1.26226600e+08 1.02962010e+08 9.98845112e+07\n",
      " 6.87706954e+07 1.20556435e+08 6.12034675e+07 9.42217910e+07\n",
      " 9.83139360e+07 1.18112324e+08 7.31882199e+07 1.28426930e+08\n",
      " 7.99867727e+07 9.57617150e+07 7.93874339e+07 7.29186594e+07\n",
      " 8.28915594e+07 1.05569381e+08 9.71552743e+07 9.53339343e+07\n",
      " 7.86356201e+07 7.91866279e+07 1.02464702e+08 9.44500547e+07\n",
      " 1.24265333e+08 7.03260493e+07 1.41931131e+08 1.27370406e+08\n",
      " 9.76146011e+07 8.41198505e+07 9.57069105e+07 7.99211931e+07\n",
      " 6.70386650e+07 1.80745882e+08 5.07236190e+07 7.99900333e+07\n",
      " 9.52149492e+07 6.52735488e+07 1.15368576e+08 8.75535388e+07\n",
      " 1.14720559e+08 1.11877552e+08 1.32179680e+08 7.55779222e+07\n",
      " 8.67014138e+07 1.36321136e+08 8.40271087e+07 1.11241101e+08\n",
      " 6.10903457e+07 1.16753667e+08 1.19304105e+08 7.77228261e+07\n",
      " 1.12924651e+08 9.24480582e+07 6.69670228e+07 8.92700094e+07\n",
      " 1.27164725e+08 8.32268968e+07 1.50353317e+08 6.24316621e+07\n",
      " 5.68757875e+07 7.04382954e+07 9.49534000e+07 1.22212599e+08\n",
      " 6.01599583e+07 1.29417659e+08 9.56336178e+07 8.17709251e+07\n",
      " 1.23243326e+08 9.05714431e+07 1.32415897e+08 1.06419227e+08\n",
      " 8.69925165e+07 7.46753278e+07 1.08400442e+08 1.15184056e+08\n",
      " 9.92438918e+07 8.20680647e+07 6.87557537e+07 6.91202850e+07\n",
      " 8.57504599e+07 1.22910831e+08 6.65414058e+07 6.78042526e+07\n",
      " 7.94638539e+07 7.17760700e+07 6.76025022e+07 7.91521621e+07\n",
      " 1.39969042e+08 7.64527659e+07 1.09575947e+08 9.57925112e+07\n",
      " 9.78254876e+07 1.15524553e+08 6.04052900e+07 6.97648915e+07\n",
      " 7.75625172e+07 9.86956671e+07 6.46078237e+07 1.62665930e+08\n",
      " 1.06433283e+08 7.75255063e+07 1.00972763e+08 1.66167621e+08\n",
      " 7.63417290e+07 1.21280525e+08 8.81671942e+07 8.07630649e+07\n",
      " 9.36891424e+07 1.26399510e+08 9.63544822e+07 7.62637295e+07\n",
      " 7.03054888e+07 1.30893039e+08 7.17852969e+07 6.77696277e+07\n",
      " 7.21001338e+07 1.15156679e+08 8.81021079e+07 1.03112911e+08\n",
      " 6.72667341e+07 7.38510576e+07 9.29304273e+07 1.44200879e+08\n",
      " 1.03299090e+08 5.99560458e+07 8.68260032e+07 8.48040697e+07\n",
      " 9.53170960e+07 6.07510419e+07 7.21143960e+07 9.96006470e+07\n",
      " 8.76129177e+07 1.02124768e+08 4.58963301e+07 9.22647244e+07\n",
      " 5.29158325e+07 1.36312949e+08 5.49612670e+07 7.83875113e+07\n",
      " 9.57420430e+07 8.78229790e+07 9.52607079e+07 1.06215500e+08\n",
      " 1.18488969e+08 1.31887220e+08 1.09488256e+08 1.09887572e+08\n",
      " 1.46714000e+08 9.92912807e+07 1.06253441e+08 1.10511797e+08\n",
      " 7.59959741e+07 6.56449421e+07 6.66354336e+07]\n"
     ]
    }
   ],
   "source": [
    "print(predictions)"
   ]
  },
  {
   "cell_type": "code",
   "execution_count": 51,
   "metadata": {},
   "outputs": [],
   "source": [
    "my_submission = pd.DataFrame({'Id': test_df.Id, 'SalePrice': predictions})\n",
    "my_submission.to_csv('../datasets/submission.csv', index=False)"
   ]
  },
  {
   "cell_type": "code",
   "execution_count": 52,
   "metadata": {},
   "outputs": [
    {
     "data": {
      "text/plain": [
       "879"
      ]
     },
     "execution_count": 52,
     "metadata": {},
     "output_type": "execute_result"
    }
   ],
   "source": [
    "len(predictions)"
   ]
  },
  {
   "cell_type": "code",
   "execution_count": 53,
   "metadata": {},
   "outputs": [
    {
     "data": {
      "text/plain": [
       "(879,)"
      ]
     },
     "execution_count": 53,
     "metadata": {},
     "output_type": "execute_result"
    }
   ],
   "source": [
    "predictions.shape"
   ]
  },
  {
   "cell_type": "code",
   "execution_count": null,
   "metadata": {},
   "outputs": [],
   "source": []
  }
 ],
 "metadata": {
  "kernelspec": {
   "display_name": "Python 3",
   "language": "python",
   "name": "python3"
  },
  "language_info": {
   "codemirror_mode": {
    "name": "ipython",
    "version": 3
   },
   "file_extension": ".py",
   "mimetype": "text/x-python",
   "name": "python",
   "nbconvert_exporter": "python",
   "pygments_lexer": "ipython3",
   "version": "3.7.4"
  }
 },
 "nbformat": 4,
 "nbformat_minor": 2
}
