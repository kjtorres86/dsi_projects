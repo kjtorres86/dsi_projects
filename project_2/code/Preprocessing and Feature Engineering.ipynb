{
 "cells": [
  {
   "cell_type": "markdown",
   "metadata": {},
   "source": [
    "## Pre-processing\n",
    "- One-hot encode categorical variables.\n",
    "- Train/test split your data.\n",
    "- Scale your data.\n",
    "- Consider using automated feature selection."
   ]
  },
  {
   "cell_type": "code",
   "execution_count": 1,
   "metadata": {},
   "outputs": [
    {
     "name": "stderr",
     "output_type": "stream",
     "text": [
      "/Users/johnsmith/opt/anaconda3/lib/python3.7/site-packages/statsmodels/tools/_testing.py:19: FutureWarning: pandas.util.testing is deprecated. Use the functions in the public API at pandas.testing instead.\n",
      "  import pandas.util.testing as tm\n"
     ]
    }
   ],
   "source": [
    "import numpy as np\n",
    "import scipy.stats as stats\n",
    "import seaborn as sns\n",
    "import matplotlib.pylab as plt\n",
    "import pandas as pd\n",
    "\n",
    "from sklearn.linear_model import LinearRegression, LogisticRegression\n",
    "from sklearn.model_selection import train_test_split, KFold, cross_val_score\n",
    "from sklearn.metrics import mean_squared_error, r2_score\n",
    "\n",
    "from sklearn.preprocessing import StandardScaler, PolynomialFeatures\n",
    "from sklearn.linear_model import Ridge, RidgeCV ,Lasso, LassoCV, ElasticNet, ElasticNetCV\n",
    "\n",
    "%matplotlib inline"
   ]
  },
  {
   "cell_type": "code",
   "execution_count": 2,
   "metadata": {},
   "outputs": [],
   "source": [
    "train_df = pd.read_csv('../datasets/train_df.csv', index_col=0)\n",
    "test_df = pd.read_csv('../datasets/test_df.csv', index_col=0)"
   ]
  },
  {
   "cell_type": "code",
   "execution_count": 3,
   "metadata": {},
   "outputs": [
    {
     "data": {
      "text/plain": [
       "(2049, 81)"
      ]
     },
     "execution_count": 3,
     "metadata": {},
     "output_type": "execute_result"
    }
   ],
   "source": [
    "train_df.shape"
   ]
  },
  {
   "cell_type": "code",
   "execution_count": 4,
   "metadata": {},
   "outputs": [
    {
     "data": {
      "text/plain": [
       "(878, 80)"
      ]
     },
     "execution_count": 4,
     "metadata": {},
     "output_type": "execute_result"
    }
   ],
   "source": [
    "test_df.shape"
   ]
  },
  {
   "cell_type": "code",
   "execution_count": 5,
   "metadata": {},
   "outputs": [
    {
     "data": {
      "text/html": [
       "<div>\n",
       "<style scoped>\n",
       "    .dataframe tbody tr th:only-of-type {\n",
       "        vertical-align: middle;\n",
       "    }\n",
       "\n",
       "    .dataframe tbody tr th {\n",
       "        vertical-align: top;\n",
       "    }\n",
       "\n",
       "    .dataframe thead th {\n",
       "        text-align: right;\n",
       "    }\n",
       "</style>\n",
       "<table border=\"1\" class=\"dataframe\">\n",
       "  <thead>\n",
       "    <tr style=\"text-align: right;\">\n",
       "      <th></th>\n",
       "      <th>Id</th>\n",
       "      <th>PID</th>\n",
       "      <th>MS SubClass</th>\n",
       "      <th>MS Zoning</th>\n",
       "      <th>Lot Frontage</th>\n",
       "      <th>Lot Area</th>\n",
       "      <th>Street</th>\n",
       "      <th>Alley</th>\n",
       "      <th>Lot Shape</th>\n",
       "      <th>Land Contour</th>\n",
       "      <th>...</th>\n",
       "      <th>Screen Porch</th>\n",
       "      <th>Pool Area</th>\n",
       "      <th>Pool QC</th>\n",
       "      <th>Fence</th>\n",
       "      <th>Misc Feature</th>\n",
       "      <th>Misc Val</th>\n",
       "      <th>Mo Sold</th>\n",
       "      <th>Yr Sold</th>\n",
       "      <th>Sale Type</th>\n",
       "      <th>SalePrice</th>\n",
       "    </tr>\n",
       "  </thead>\n",
       "  <tbody>\n",
       "    <tr>\n",
       "      <th>0</th>\n",
       "      <td>109</td>\n",
       "      <td>533352170</td>\n",
       "      <td>60</td>\n",
       "      <td>RL</td>\n",
       "      <td>NaN</td>\n",
       "      <td>13517</td>\n",
       "      <td>Pave</td>\n",
       "      <td>NaN</td>\n",
       "      <td>IR1</td>\n",
       "      <td>Lvl</td>\n",
       "      <td>...</td>\n",
       "      <td>0</td>\n",
       "      <td>0</td>\n",
       "      <td>NaN</td>\n",
       "      <td>NaN</td>\n",
       "      <td>NaN</td>\n",
       "      <td>0</td>\n",
       "      <td>3</td>\n",
       "      <td>2010</td>\n",
       "      <td>WD</td>\n",
       "      <td>130500</td>\n",
       "    </tr>\n",
       "    <tr>\n",
       "      <th>1</th>\n",
       "      <td>544</td>\n",
       "      <td>531379050</td>\n",
       "      <td>60</td>\n",
       "      <td>RL</td>\n",
       "      <td>43.0</td>\n",
       "      <td>11492</td>\n",
       "      <td>Pave</td>\n",
       "      <td>NaN</td>\n",
       "      <td>IR1</td>\n",
       "      <td>Lvl</td>\n",
       "      <td>...</td>\n",
       "      <td>0</td>\n",
       "      <td>0</td>\n",
       "      <td>NaN</td>\n",
       "      <td>NaN</td>\n",
       "      <td>NaN</td>\n",
       "      <td>0</td>\n",
       "      <td>4</td>\n",
       "      <td>2009</td>\n",
       "      <td>WD</td>\n",
       "      <td>220000</td>\n",
       "    </tr>\n",
       "    <tr>\n",
       "      <th>2</th>\n",
       "      <td>153</td>\n",
       "      <td>535304180</td>\n",
       "      <td>20</td>\n",
       "      <td>RL</td>\n",
       "      <td>68.0</td>\n",
       "      <td>7922</td>\n",
       "      <td>Pave</td>\n",
       "      <td>NaN</td>\n",
       "      <td>Reg</td>\n",
       "      <td>Lvl</td>\n",
       "      <td>...</td>\n",
       "      <td>0</td>\n",
       "      <td>0</td>\n",
       "      <td>NaN</td>\n",
       "      <td>NaN</td>\n",
       "      <td>NaN</td>\n",
       "      <td>0</td>\n",
       "      <td>1</td>\n",
       "      <td>2010</td>\n",
       "      <td>WD</td>\n",
       "      <td>109000</td>\n",
       "    </tr>\n",
       "    <tr>\n",
       "      <th>3</th>\n",
       "      <td>318</td>\n",
       "      <td>916386060</td>\n",
       "      <td>60</td>\n",
       "      <td>RL</td>\n",
       "      <td>73.0</td>\n",
       "      <td>9802</td>\n",
       "      <td>Pave</td>\n",
       "      <td>NaN</td>\n",
       "      <td>Reg</td>\n",
       "      <td>Lvl</td>\n",
       "      <td>...</td>\n",
       "      <td>0</td>\n",
       "      <td>0</td>\n",
       "      <td>NaN</td>\n",
       "      <td>NaN</td>\n",
       "      <td>NaN</td>\n",
       "      <td>0</td>\n",
       "      <td>4</td>\n",
       "      <td>2010</td>\n",
       "      <td>WD</td>\n",
       "      <td>174000</td>\n",
       "    </tr>\n",
       "    <tr>\n",
       "      <th>4</th>\n",
       "      <td>255</td>\n",
       "      <td>906425045</td>\n",
       "      <td>50</td>\n",
       "      <td>RL</td>\n",
       "      <td>82.0</td>\n",
       "      <td>14235</td>\n",
       "      <td>Pave</td>\n",
       "      <td>NaN</td>\n",
       "      <td>IR1</td>\n",
       "      <td>Lvl</td>\n",
       "      <td>...</td>\n",
       "      <td>0</td>\n",
       "      <td>0</td>\n",
       "      <td>NaN</td>\n",
       "      <td>NaN</td>\n",
       "      <td>NaN</td>\n",
       "      <td>0</td>\n",
       "      <td>3</td>\n",
       "      <td>2010</td>\n",
       "      <td>WD</td>\n",
       "      <td>138500</td>\n",
       "    </tr>\n",
       "  </tbody>\n",
       "</table>\n",
       "<p>5 rows × 81 columns</p>\n",
       "</div>"
      ],
      "text/plain": [
       "    Id        PID  MS SubClass MS Zoning  Lot Frontage  Lot Area Street Alley  \\\n",
       "0  109  533352170           60        RL           NaN     13517   Pave   NaN   \n",
       "1  544  531379050           60        RL          43.0     11492   Pave   NaN   \n",
       "2  153  535304180           20        RL          68.0      7922   Pave   NaN   \n",
       "3  318  916386060           60        RL          73.0      9802   Pave   NaN   \n",
       "4  255  906425045           50        RL          82.0     14235   Pave   NaN   \n",
       "\n",
       "  Lot Shape Land Contour  ... Screen Porch Pool Area Pool QC Fence  \\\n",
       "0       IR1          Lvl  ...            0         0     NaN   NaN   \n",
       "1       IR1          Lvl  ...            0         0     NaN   NaN   \n",
       "2       Reg          Lvl  ...            0         0     NaN   NaN   \n",
       "3       Reg          Lvl  ...            0         0     NaN   NaN   \n",
       "4       IR1          Lvl  ...            0         0     NaN   NaN   \n",
       "\n",
       "  Misc Feature Misc Val Mo Sold Yr Sold  Sale Type  SalePrice  \n",
       "0          NaN        0       3    2010        WD      130500  \n",
       "1          NaN        0       4    2009        WD      220000  \n",
       "2          NaN        0       1    2010        WD      109000  \n",
       "3          NaN        0       4    2010        WD      174000  \n",
       "4          NaN        0       3    2010        WD      138500  \n",
       "\n",
       "[5 rows x 81 columns]"
      ]
     },
     "execution_count": 5,
     "metadata": {},
     "output_type": "execute_result"
    }
   ],
   "source": [
    "train_df.head()"
   ]
  },
  {
   "cell_type": "code",
   "execution_count": 6,
   "metadata": {},
   "outputs": [
    {
     "data": {
      "text/html": [
       "<div>\n",
       "<style scoped>\n",
       "    .dataframe tbody tr th:only-of-type {\n",
       "        vertical-align: middle;\n",
       "    }\n",
       "\n",
       "    .dataframe tbody tr th {\n",
       "        vertical-align: top;\n",
       "    }\n",
       "\n",
       "    .dataframe thead th {\n",
       "        text-align: right;\n",
       "    }\n",
       "</style>\n",
       "<table border=\"1\" class=\"dataframe\">\n",
       "  <thead>\n",
       "    <tr style=\"text-align: right;\">\n",
       "      <th></th>\n",
       "      <th>Id</th>\n",
       "      <th>PID</th>\n",
       "      <th>MS SubClass</th>\n",
       "      <th>MS Zoning</th>\n",
       "      <th>Lot Frontage</th>\n",
       "      <th>Lot Area</th>\n",
       "      <th>Street</th>\n",
       "      <th>Alley</th>\n",
       "      <th>Lot Shape</th>\n",
       "      <th>Land Contour</th>\n",
       "      <th>...</th>\n",
       "      <th>3Ssn Porch</th>\n",
       "      <th>Screen Porch</th>\n",
       "      <th>Pool Area</th>\n",
       "      <th>Pool QC</th>\n",
       "      <th>Fence</th>\n",
       "      <th>Misc Feature</th>\n",
       "      <th>Misc Val</th>\n",
       "      <th>Mo Sold</th>\n",
       "      <th>Yr Sold</th>\n",
       "      <th>Sale Type</th>\n",
       "    </tr>\n",
       "  </thead>\n",
       "  <tbody>\n",
       "    <tr>\n",
       "      <th>0</th>\n",
       "      <td>2658</td>\n",
       "      <td>902301120</td>\n",
       "      <td>190</td>\n",
       "      <td>RM</td>\n",
       "      <td>69.0</td>\n",
       "      <td>9142</td>\n",
       "      <td>Pave</td>\n",
       "      <td>Grvl</td>\n",
       "      <td>Reg</td>\n",
       "      <td>Lvl</td>\n",
       "      <td>...</td>\n",
       "      <td>0</td>\n",
       "      <td>0</td>\n",
       "      <td>0</td>\n",
       "      <td>NaN</td>\n",
       "      <td>NaN</td>\n",
       "      <td>NaN</td>\n",
       "      <td>0</td>\n",
       "      <td>4</td>\n",
       "      <td>2006</td>\n",
       "      <td>WD</td>\n",
       "    </tr>\n",
       "    <tr>\n",
       "      <th>1</th>\n",
       "      <td>2718</td>\n",
       "      <td>905108090</td>\n",
       "      <td>90</td>\n",
       "      <td>RL</td>\n",
       "      <td>NaN</td>\n",
       "      <td>9662</td>\n",
       "      <td>Pave</td>\n",
       "      <td>NaN</td>\n",
       "      <td>IR1</td>\n",
       "      <td>Lvl</td>\n",
       "      <td>...</td>\n",
       "      <td>0</td>\n",
       "      <td>0</td>\n",
       "      <td>0</td>\n",
       "      <td>NaN</td>\n",
       "      <td>NaN</td>\n",
       "      <td>NaN</td>\n",
       "      <td>0</td>\n",
       "      <td>8</td>\n",
       "      <td>2006</td>\n",
       "      <td>WD</td>\n",
       "    </tr>\n",
       "    <tr>\n",
       "      <th>2</th>\n",
       "      <td>2414</td>\n",
       "      <td>528218130</td>\n",
       "      <td>60</td>\n",
       "      <td>RL</td>\n",
       "      <td>58.0</td>\n",
       "      <td>17104</td>\n",
       "      <td>Pave</td>\n",
       "      <td>NaN</td>\n",
       "      <td>IR1</td>\n",
       "      <td>Lvl</td>\n",
       "      <td>...</td>\n",
       "      <td>0</td>\n",
       "      <td>0</td>\n",
       "      <td>0</td>\n",
       "      <td>NaN</td>\n",
       "      <td>NaN</td>\n",
       "      <td>NaN</td>\n",
       "      <td>0</td>\n",
       "      <td>9</td>\n",
       "      <td>2006</td>\n",
       "      <td>New</td>\n",
       "    </tr>\n",
       "    <tr>\n",
       "      <th>3</th>\n",
       "      <td>1989</td>\n",
       "      <td>902207150</td>\n",
       "      <td>30</td>\n",
       "      <td>RM</td>\n",
       "      <td>60.0</td>\n",
       "      <td>8520</td>\n",
       "      <td>Pave</td>\n",
       "      <td>NaN</td>\n",
       "      <td>Reg</td>\n",
       "      <td>Lvl</td>\n",
       "      <td>...</td>\n",
       "      <td>0</td>\n",
       "      <td>0</td>\n",
       "      <td>0</td>\n",
       "      <td>NaN</td>\n",
       "      <td>NaN</td>\n",
       "      <td>NaN</td>\n",
       "      <td>0</td>\n",
       "      <td>7</td>\n",
       "      <td>2007</td>\n",
       "      <td>WD</td>\n",
       "    </tr>\n",
       "    <tr>\n",
       "      <th>4</th>\n",
       "      <td>625</td>\n",
       "      <td>535105100</td>\n",
       "      <td>20</td>\n",
       "      <td>RL</td>\n",
       "      <td>NaN</td>\n",
       "      <td>9500</td>\n",
       "      <td>Pave</td>\n",
       "      <td>NaN</td>\n",
       "      <td>IR1</td>\n",
       "      <td>Lvl</td>\n",
       "      <td>...</td>\n",
       "      <td>0</td>\n",
       "      <td>185</td>\n",
       "      <td>0</td>\n",
       "      <td>NaN</td>\n",
       "      <td>NaN</td>\n",
       "      <td>NaN</td>\n",
       "      <td>0</td>\n",
       "      <td>7</td>\n",
       "      <td>2009</td>\n",
       "      <td>WD</td>\n",
       "    </tr>\n",
       "  </tbody>\n",
       "</table>\n",
       "<p>5 rows × 80 columns</p>\n",
       "</div>"
      ],
      "text/plain": [
       "     Id        PID  MS SubClass MS Zoning  Lot Frontage  Lot Area Street  \\\n",
       "0  2658  902301120          190        RM          69.0      9142   Pave   \n",
       "1  2718  905108090           90        RL           NaN      9662   Pave   \n",
       "2  2414  528218130           60        RL          58.0     17104   Pave   \n",
       "3  1989  902207150           30        RM          60.0      8520   Pave   \n",
       "4   625  535105100           20        RL           NaN      9500   Pave   \n",
       "\n",
       "  Alley Lot Shape Land Contour  ... 3Ssn Porch Screen Porch Pool Area Pool QC  \\\n",
       "0  Grvl       Reg          Lvl  ...          0            0         0     NaN   \n",
       "1   NaN       IR1          Lvl  ...          0            0         0     NaN   \n",
       "2   NaN       IR1          Lvl  ...          0            0         0     NaN   \n",
       "3   NaN       Reg          Lvl  ...          0            0         0     NaN   \n",
       "4   NaN       IR1          Lvl  ...          0          185         0     NaN   \n",
       "\n",
       "  Fence Misc Feature Misc Val Mo Sold  Yr Sold  Sale Type  \n",
       "0   NaN          NaN        0       4     2006        WD   \n",
       "1   NaN          NaN        0       8     2006        WD   \n",
       "2   NaN          NaN        0       9     2006        New  \n",
       "3   NaN          NaN        0       7     2007        WD   \n",
       "4   NaN          NaN        0       7     2009        WD   \n",
       "\n",
       "[5 rows x 80 columns]"
      ]
     },
     "execution_count": 6,
     "metadata": {},
     "output_type": "execute_result"
    }
   ],
   "source": [
    "test_df.head()"
   ]
  },
  {
   "cell_type": "code",
   "execution_count": 7,
   "metadata": {},
   "outputs": [
    {
     "name": "stdout",
     "output_type": "stream",
     "text": [
      "<class 'pandas.core.frame.DataFrame'>\n",
      "Int64Index: 2049 entries, 0 to 2050\n",
      "Data columns (total 81 columns):\n",
      " #   Column           Non-Null Count  Dtype  \n",
      "---  ------           --------------  -----  \n",
      " 0   Id               2049 non-null   int64  \n",
      " 1   PID              2049 non-null   int64  \n",
      " 2   MS SubClass      2049 non-null   int64  \n",
      " 3   MS Zoning        2049 non-null   object \n",
      " 4   Lot Frontage     1719 non-null   float64\n",
      " 5   Lot Area         2049 non-null   int64  \n",
      " 6   Street           2049 non-null   object \n",
      " 7   Alley            140 non-null    object \n",
      " 8   Lot Shape        2049 non-null   object \n",
      " 9   Land Contour     2049 non-null   object \n",
      " 10  Utilities        2049 non-null   object \n",
      " 11  Lot Config       2049 non-null   object \n",
      " 12  Land Slope       2049 non-null   object \n",
      " 13  Neighborhood     2049 non-null   object \n",
      " 14  Condition 1      2049 non-null   object \n",
      " 15  Condition 2      2049 non-null   object \n",
      " 16  Bldg Type        2049 non-null   object \n",
      " 17  House Style      2049 non-null   object \n",
      " 18  Overall Qual     2049 non-null   int64  \n",
      " 19  Overall Cond     2049 non-null   int64  \n",
      " 20  Year Built       2049 non-null   int64  \n",
      " 21  Year Remod/Add   2049 non-null   int64  \n",
      " 22  Roof Style       2049 non-null   object \n",
      " 23  Roof Matl        2049 non-null   object \n",
      " 24  Exterior 1st     2049 non-null   object \n",
      " 25  Exterior 2nd     2049 non-null   object \n",
      " 26  Mas Vnr Type     2027 non-null   object \n",
      " 27  Mas Vnr Area     2027 non-null   float64\n",
      " 28  Exter Qual       2049 non-null   object \n",
      " 29  Exter Cond       2049 non-null   object \n",
      " 30  Foundation       2049 non-null   object \n",
      " 31  Bsmt Qual        1995 non-null   object \n",
      " 32  Bsmt Cond        1995 non-null   object \n",
      " 33  Bsmt Exposure    1992 non-null   object \n",
      " 34  BsmtFin Type 1   1995 non-null   object \n",
      " 35  BsmtFin SF 1     2049 non-null   float64\n",
      " 36  BsmtFin Type 2   1994 non-null   object \n",
      " 37  BsmtFin SF 2     2049 non-null   float64\n",
      " 38  Bsmt Unf SF      2049 non-null   float64\n",
      " 39  Total Bsmt SF    2049 non-null   float64\n",
      " 40  Heating          2049 non-null   object \n",
      " 41  Heating QC       2049 non-null   object \n",
      " 42  Central Air      2049 non-null   object \n",
      " 43  Electrical       2049 non-null   object \n",
      " 44  1st Flr SF       2049 non-null   int64  \n",
      " 45  2nd Flr SF       2049 non-null   int64  \n",
      " 46  Low Qual Fin SF  2049 non-null   int64  \n",
      " 47  Gr Liv Area      2049 non-null   int64  \n",
      " 48  Bsmt Full Bath   2049 non-null   int64  \n",
      " 49  Bsmt Half Bath   2049 non-null   int64  \n",
      " 50  Full Bath        2049 non-null   int64  \n",
      " 51  Half Bath        2049 non-null   int64  \n",
      " 52  Bedroom AbvGr    2049 non-null   int64  \n",
      " 53  Kitchen AbvGr    2049 non-null   int64  \n",
      " 54  Kitchen Qual     2049 non-null   object \n",
      " 55  TotRms AbvGrd    2049 non-null   int64  \n",
      " 56  Functional       2049 non-null   object \n",
      " 57  Fireplaces       2049 non-null   int64  \n",
      " 58  Fireplace Qu     1051 non-null   object \n",
      " 59  Garage Type      1936 non-null   object \n",
      " 60  Garage Yr Blt    1936 non-null   float64\n",
      " 61  Garage Finish    1936 non-null   object \n",
      " 62  Garage Cars      2049 non-null   int64  \n",
      " 63  Garage Area      2049 non-null   int64  \n",
      " 64  Garage Qual      1936 non-null   object \n",
      " 65  Garage Cond      1936 non-null   object \n",
      " 66  Paved Drive      2049 non-null   object \n",
      " 67  Wood Deck SF     2049 non-null   int64  \n",
      " 68  Open Porch SF    2049 non-null   int64  \n",
      " 69  Enclosed Porch   2049 non-null   int64  \n",
      " 70  3Ssn Porch       2049 non-null   int64  \n",
      " 71  Screen Porch     2049 non-null   int64  \n",
      " 72  Pool Area        2049 non-null   int64  \n",
      " 73  Pool QC          9 non-null      object \n",
      " 74  Fence            398 non-null    object \n",
      " 75  Misc Feature     65 non-null     object \n",
      " 76  Misc Val         2049 non-null   int64  \n",
      " 77  Mo Sold          2049 non-null   int64  \n",
      " 78  Yr Sold          2049 non-null   int64  \n",
      " 79  Sale Type        2049 non-null   object \n",
      " 80  SalePrice        2049 non-null   int64  \n",
      "dtypes: float64(7), int64(32), object(42)\n",
      "memory usage: 1.3+ MB\n"
     ]
    }
   ],
   "source": [
    "train_df.info()"
   ]
  },
  {
   "cell_type": "markdown",
   "metadata": {},
   "source": [
    "Running the first Linear Regression model with only those that have shown greater than 0.5 correlation to target 'SalesPrice'"
   ]
  },
  {
   "cell_type": "code",
   "execution_count": 8,
   "metadata": {},
   "outputs": [],
   "source": [
    "X = train_df[['Gr Liv Area', 'Garage Area', 'Total Bsmt SF', '1st Flr SF']]\n",
    "y = train_df['SalePrice']"
   ]
  },
  {
   "cell_type": "code",
   "execution_count": 9,
   "metadata": {},
   "outputs": [
    {
     "data": {
      "text/plain": [
       "(2049, 4)"
      ]
     },
     "execution_count": 9,
     "metadata": {},
     "output_type": "execute_result"
    }
   ],
   "source": [
    "X.shape"
   ]
  },
  {
   "cell_type": "code",
   "execution_count": 10,
   "metadata": {},
   "outputs": [
    {
     "data": {
      "text/plain": [
       "(2049,)"
      ]
     },
     "execution_count": 10,
     "metadata": {},
     "output_type": "execute_result"
    }
   ],
   "source": [
    "y.shape"
   ]
  },
  {
   "cell_type": "code",
   "execution_count": 11,
   "metadata": {},
   "outputs": [
    {
     "data": {
      "text/plain": [
       "(1536, 4)"
      ]
     },
     "execution_count": 11,
     "metadata": {},
     "output_type": "execute_result"
    }
   ],
   "source": [
    "X_train, X_test, y_train, y_test = train_test_split(X,y)\n",
    "X_train.shape"
   ]
  },
  {
   "cell_type": "code",
   "execution_count": 12,
   "metadata": {},
   "outputs": [],
   "source": [
    "ss = StandardScaler()"
   ]
  },
  {
   "cell_type": "code",
   "execution_count": 13,
   "metadata": {},
   "outputs": [],
   "source": [
    "X_train_sc = ss.fit_transform(X_train)\n",
    "X_test_sc = ss.transform(X_test)"
   ]
  },
  {
   "cell_type": "code",
   "execution_count": 14,
   "metadata": {},
   "outputs": [],
   "source": [
    "lr = LinearRegression()\n",
    "lasso = LassoCV(n_alphas=200)"
   ]
  },
  {
   "cell_type": "code",
   "execution_count": 15,
   "metadata": {},
   "outputs": [
    {
     "data": {
      "text/plain": [
       "array([0.77694597, 0.6032808 , 0.73222686, 0.66936746, 0.70067381])"
      ]
     },
     "execution_count": 15,
     "metadata": {},
     "output_type": "execute_result"
    }
   ],
   "source": [
    "lr.scores = cross_val_score(lr, X_train_sc, y_train, cv=5)\n",
    "lr.scores"
   ]
  },
  {
   "cell_type": "code",
   "execution_count": 16,
   "metadata": {},
   "outputs": [
    {
     "data": {
      "text/plain": [
       "0.6964989811008853"
      ]
     },
     "execution_count": 16,
     "metadata": {},
     "output_type": "execute_result"
    }
   ],
   "source": [
    "lr.scores.mean()"
   ]
  },
  {
   "cell_type": "code",
   "execution_count": 17,
   "metadata": {},
   "outputs": [
    {
     "data": {
      "text/plain": [
       "array([0.77644228, 0.60445761, 0.73447832, 0.66944124, 0.70017315])"
      ]
     },
     "execution_count": 17,
     "metadata": {},
     "output_type": "execute_result"
    }
   ],
   "source": [
    "lasso_scores = cross_val_score(lasso, X_train_sc, y_train, cv=5)\n",
    "lasso_scores"
   ]
  },
  {
   "cell_type": "code",
   "execution_count": 18,
   "metadata": {},
   "outputs": [
    {
     "data": {
      "text/plain": [
       "0.6969985188370786"
      ]
     },
     "execution_count": 18,
     "metadata": {},
     "output_type": "execute_result"
    }
   ],
   "source": [
    "lasso_scores.mean()"
   ]
  },
  {
   "cell_type": "code",
   "execution_count": 19,
   "metadata": {},
   "outputs": [
    {
     "data": {
      "text/plain": [
       "LassoCV(alphas=None, copy_X=True, cv=None, eps=0.001, fit_intercept=True,\n",
       "        max_iter=1000, n_alphas=200, n_jobs=None, normalize=False,\n",
       "        positive=False, precompute='auto', random_state=None,\n",
       "        selection='cyclic', tol=0.0001, verbose=False)"
      ]
     },
     "execution_count": 19,
     "metadata": {},
     "output_type": "execute_result"
    }
   ],
   "source": [
    "lasso.fit(X_train_sc, y_train)"
   ]
  },
  {
   "cell_type": "code",
   "execution_count": 20,
   "metadata": {},
   "outputs": [
    {
     "data": {
      "text/plain": [
       "0.7005131000431377"
      ]
     },
     "execution_count": 20,
     "metadata": {},
     "output_type": "execute_result"
    }
   ],
   "source": [
    "lasso.score(X_train_sc, y_train)"
   ]
  },
  {
   "cell_type": "code",
   "execution_count": 21,
   "metadata": {},
   "outputs": [
    {
     "data": {
      "text/plain": [
       "0.5758161445496195"
      ]
     },
     "execution_count": 21,
     "metadata": {},
     "output_type": "execute_result"
    }
   ],
   "source": [
    "lasso.score(X_test_sc, y_test)"
   ]
  },
  {
   "cell_type": "code",
   "execution_count": 22,
   "metadata": {},
   "outputs": [],
   "source": [
    "X = train_df[['Gr Liv Area', 'Garage Area', 'Total Bsmt SF']]\n",
    "y = train_df['SalePrice']"
   ]
  },
  {
   "cell_type": "code",
   "execution_count": 23,
   "metadata": {},
   "outputs": [],
   "source": [
    "X_train, X_test, y_train, y_test = train_test_split(X,y)"
   ]
  },
  {
   "cell_type": "code",
   "execution_count": 24,
   "metadata": {},
   "outputs": [],
   "source": [
    "ss = StandardScaler()"
   ]
  },
  {
   "cell_type": "code",
   "execution_count": 25,
   "metadata": {},
   "outputs": [],
   "source": [
    "X_train_sc = ss.fit_transform(X_train)\n",
    "X_test_sc = ss.transform(X_test)"
   ]
  },
  {
   "cell_type": "code",
   "execution_count": 26,
   "metadata": {},
   "outputs": [],
   "source": [
    "lr = LinearRegression()\n",
    "lasso = LassoCV(n_alphas=200)"
   ]
  },
  {
   "cell_type": "code",
   "execution_count": 27,
   "metadata": {},
   "outputs": [
    {
     "data": {
      "text/plain": [
       "array([0.67523789, 0.73466324, 0.43632809, 0.59459974, 0.70279738])"
      ]
     },
     "execution_count": 27,
     "metadata": {},
     "output_type": "execute_result"
    }
   ],
   "source": [
    "lr.scores = cross_val_score(lr, X_train_sc, y_train, cv=5)\n",
    "lr.scores"
   ]
  },
  {
   "cell_type": "code",
   "execution_count": 28,
   "metadata": {},
   "outputs": [
    {
     "data": {
      "text/plain": [
       "0.6287252671662982"
      ]
     },
     "execution_count": 28,
     "metadata": {},
     "output_type": "execute_result"
    }
   ],
   "source": [
    "lr.scores.mean()"
   ]
  },
  {
   "cell_type": "code",
   "execution_count": 29,
   "metadata": {},
   "outputs": [
    {
     "data": {
      "text/plain": [
       "array([0.67328854, 0.7334135 , 0.44158153, 0.59769072, 0.69781865])"
      ]
     },
     "execution_count": 29,
     "metadata": {},
     "output_type": "execute_result"
    }
   ],
   "source": [
    "lasso_scores = cross_val_score(lasso, X_train_sc, y_train, cv=5)\n",
    "lasso_scores"
   ]
  },
  {
   "cell_type": "code",
   "execution_count": 30,
   "metadata": {},
   "outputs": [
    {
     "data": {
      "text/plain": [
       "0.6287585899582712"
      ]
     },
     "execution_count": 30,
     "metadata": {},
     "output_type": "execute_result"
    }
   ],
   "source": [
    "lasso_scores.mean()"
   ]
  },
  {
   "cell_type": "code",
   "execution_count": 31,
   "metadata": {},
   "outputs": [
    {
     "data": {
      "text/plain": [
       "LassoCV(alphas=None, copy_X=True, cv=None, eps=0.001, fit_intercept=True,\n",
       "        max_iter=1000, n_alphas=200, n_jobs=None, normalize=False,\n",
       "        positive=False, precompute='auto', random_state=None,\n",
       "        selection='cyclic', tol=0.0001, verbose=False)"
      ]
     },
     "execution_count": 31,
     "metadata": {},
     "output_type": "execute_result"
    }
   ],
   "source": [
    "lasso.fit(X_train_sc, y_train)"
   ]
  },
  {
   "cell_type": "code",
   "execution_count": 32,
   "metadata": {},
   "outputs": [
    {
     "data": {
      "text/plain": [
       "0.6486081796305901"
      ]
     },
     "execution_count": 32,
     "metadata": {},
     "output_type": "execute_result"
    }
   ],
   "source": [
    "lasso.score(X_train_sc, y_train)"
   ]
  },
  {
   "cell_type": "code",
   "execution_count": 33,
   "metadata": {},
   "outputs": [
    {
     "data": {
      "text/plain": [
       "0.7122486608841978"
      ]
     },
     "execution_count": 33,
     "metadata": {},
     "output_type": "execute_result"
    }
   ],
   "source": [
    "lasso.score(X_test_sc, y_test)"
   ]
  },
  {
   "cell_type": "code",
   "execution_count": 34,
   "metadata": {},
   "outputs": [],
   "source": [
    "y_pred = lasso.predict(X_test_sc)"
   ]
  },
  {
   "cell_type": "code",
   "execution_count": 35,
   "metadata": {},
   "outputs": [],
   "source": [
    "test_df = pd.read_csv('../datasets/test_df.csv')"
   ]
  },
  {
   "cell_type": "code",
   "execution_count": 36,
   "metadata": {},
   "outputs": [],
   "source": [
    "X_test = test_df[['Gr Liv Area', 'Garage Area', 'Total Bsmt SF']]"
   ]
  },
  {
   "cell_type": "code",
   "execution_count": 37,
   "metadata": {},
   "outputs": [],
   "source": [
    "predictions = lasso.predict(X_test)"
   ]
  },
  {
   "cell_type": "code",
   "execution_count": 38,
   "metadata": {},
   "outputs": [
    {
     "name": "stdout",
     "output_type": "stream",
     "text": [
      "[9.24355761e+07 1.15959672e+08 7.09854255e+07 6.17107887e+07\n",
      " 8.46416838e+07 5.26569249e+07 5.96854641e+07 7.19631103e+07\n",
      " 8.43775629e+07 7.60411055e+07 7.47425796e+07 6.17074954e+07\n",
      " 8.20195150e+07 1.31694824e+08 8.10822040e+07 4.88138987e+07\n",
      " 8.30952899e+07 6.38902506e+07 9.28570408e+07 8.40419968e+07\n",
      " 6.15765648e+07 6.22044050e+07 9.64126659e+07 6.31507980e+07\n",
      " 7.69476010e+07 5.33113275e+07 7.85703097e+07 7.43721363e+07\n",
      " 6.38114388e+07 2.89729481e+07 6.07693056e+07 6.69732254e+07\n",
      " 1.29481116e+08 7.16228552e+07 9.19336853e+07 6.95056641e+07\n",
      " 7.98351178e+07 4.27742420e+07 4.09981985e+07 8.49875370e+07\n",
      " 6.38547539e+07 8.90793699e+07 7.84368336e+07 7.06179238e+07\n",
      " 9.01546581e+07 5.40007798e+07 8.98316855e+07 5.45931571e+07\n",
      " 5.60227631e+07 6.14266613e+07 6.20281778e+07 9.40599025e+07\n",
      " 1.04315960e+08 6.66190444e+07 5.34820168e+07 6.37883878e+07\n",
      " 8.44309568e+07 7.49199894e+07 7.36692420e+07 9.92021527e+07\n",
      " 1.25882730e+08 7.19865689e+07 6.80150694e+07 8.08556685e+07\n",
      " 7.79025699e+07 1.25664922e+08 4.47617660e+07 8.25994441e+07\n",
      " 3.57815673e+07 5.40713513e+07 4.84009271e+07 1.25789781e+08\n",
      " 9.48117240e+07 6.42401134e+07 6.24610742e+07 1.00110005e+08\n",
      " 2.32971567e+08 6.45256710e+07 6.76294943e+07 3.51897695e+07\n",
      " 1.11766116e+08 8.83233571e+07 6.27344806e+07 6.51401455e+07\n",
      " 7.19004114e+07 8.04886434e+07 1.38813011e+08 5.70240285e+07\n",
      " 7.85860136e+07 1.00413714e+08 7.86781205e+07 5.82665536e+07\n",
      " 6.33321991e+07 6.22903515e+07 7.50333117e+07 6.06627711e+07\n",
      " 7.59098641e+07 8.61238038e+07 9.55998939e+07 8.49337174e+07\n",
      " 8.18929727e+07 1.03225415e+08 8.99331256e+07 5.33743812e+07\n",
      " 1.48291410e+08 7.26818950e+07 4.15653109e+07 7.18673741e+07\n",
      " 1.00919164e+08 1.13475875e+08 9.53713517e+07 8.70477460e+07\n",
      " 9.49395302e+07 5.32425840e+07 5.94146440e+07 8.95969306e+07\n",
      " 1.73472197e+08 8.09209207e+07 6.46441816e+07 1.09350568e+08\n",
      " 8.09179513e+07 1.27889963e+08 1.02404558e+08 1.01339272e+08\n",
      " 7.20763385e+07 9.75521236e+07 1.26370871e+08 5.18135460e+07\n",
      " 5.81725306e+07 5.86077487e+07 1.02707653e+08 6.18975543e+07\n",
      " 8.23902695e+07 7.17876152e+07 6.51997733e+07 7.48094703e+07\n",
      " 1.06172363e+08 8.54723279e+07 7.15437028e+07 8.25994441e+07\n",
      " 4.87577711e+07 8.33426187e+07 6.18097698e+07 6.72565949e+07\n",
      " 9.15245306e+07 3.64420811e+07 9.13159960e+07 9.10773512e+07\n",
      " 6.53987415e+07 4.46701977e+07 1.03228511e+08 8.55163712e+07\n",
      " 7.96341899e+07 5.64683263e+07 5.29616983e+07 4.64674309e+07\n",
      " 6.33170377e+07 4.59637139e+07 5.61865829e+07 1.09665286e+08\n",
      " 1.14704450e+08 8.93443507e+07 5.94798233e+07 6.11346942e+07\n",
      " 1.56072137e+08 8.83479723e+07 9.91333104e+07 7.15437028e+07\n",
      " 6.99014860e+07 1.06033532e+08 8.62619476e+07 2.10041300e+08\n",
      " 6.28539210e+07 9.79293440e+07 6.24587154e+07 8.44768433e+07\n",
      " 8.40810274e+07 4.11393649e+07 1.15164799e+08 5.26569249e+07\n",
      " 7.22971399e+07 7.12538337e+07 9.13340835e+07 1.05335053e+08\n",
      " 7.28711579e+07 7.57736288e+07 5.80917098e+07 7.27223325e+07\n",
      " 9.57411932e+07 6.04620886e+07 4.26434064e+07 8.23025633e+07\n",
      " 5.52032521e+07 4.97168509e+07 5.15327120e+07 7.24191145e+07\n",
      " 5.80853504e+07 9.97062117e+07 7.24266067e+07 6.89572852e+07\n",
      " 5.87450656e+07 1.34318464e+08 1.01995435e+08 5.61326376e+07\n",
      " 8.32547844e+07 6.42533345e+07 4.31776395e+07 7.45389530e+07\n",
      " 5.96666480e+07 8.26925453e+07 9.54023906e+07 8.39213381e+07\n",
      " 9.07293920e+07 6.52270980e+07 1.19983705e+08 9.24091701e+07\n",
      " 8.41961684e+07 1.08162668e+08 6.31597321e+07 4.58461320e+07\n",
      " 6.09117990e+07 7.21968505e+07 6.85299903e+07 8.44158204e+07\n",
      " 7.30201346e+07 5.39955763e+07 5.50897749e+07 1.14081730e+08\n",
      " 9.63717561e+07 7.35100691e+07 1.21107442e+08 8.02999172e+07\n",
      " 3.29147582e+07 7.88350127e+07 4.83933222e+07 1.45327965e+08\n",
      " 7.13938589e+07 4.90893306e+07 1.41872845e+08 1.35278367e+08\n",
      " 8.13360042e+07 9.90662119e+07 7.81303258e+07 1.14945778e+08\n",
      " 1.08806063e+08 1.22173452e+08 1.06166418e+08 5.77570429e+07\n",
      " 5.58998691e+07 8.81289594e+07 1.11733442e+08 9.51564124e+07\n",
      " 7.55292052e+07 9.81455005e+07 9.96580464e+07 8.66266009e+07\n",
      " 5.78864382e+07 4.80966069e+07 1.40791067e+08 9.28290860e+07\n",
      " 9.53921832e+07 6.10677821e+07 7.17873040e+07 5.86890931e+07\n",
      " 6.86088619e+07 9.19301340e+07 8.47347516e+07 7.53362152e+07\n",
      " 8.15860028e+07 8.04489571e+07 5.76324077e+07 1.09450449e+08\n",
      " 8.02644314e+07 8.18155088e+07 1.48454758e+08 5.85535627e+07\n",
      " 6.97102450e+07 5.40713513e+07 8.69031392e+07 4.34327845e+07\n",
      " 6.16313794e+07 9.42616058e+07 7.02916621e+07 5.07891910e+07\n",
      " 4.67663151e+07 6.40722410e+07 8.96366197e+07 1.02498194e+08\n",
      " 4.75290362e+07 4.93417053e+07 7.35705763e+07 5.25794215e+07\n",
      " 6.52875206e+07 5.26569249e+07 3.67015906e+07 8.33301708e+07\n",
      " 5.40713513e+07 8.10896266e+07 1.02525120e+08 8.57713968e+07\n",
      " 8.10554472e+07 9.37865520e+07 1.13261741e+08 6.24279268e+07\n",
      " 9.63945360e+07 4.10882277e+07 5.24519289e+07 9.96019102e+07\n",
      " 8.27487079e+07 6.59356853e+07 6.05952924e+07 1.05454717e+08\n",
      " 8.33232853e+07 9.71979899e+07 1.11763516e+08 8.46963695e+07\n",
      " 1.16136370e+08 1.14964536e+08 9.95727510e+07 1.02852312e+08\n",
      " 6.10126412e+07 2.92661294e+07 7.00422546e+07 8.19081374e+07\n",
      " 1.00720372e+08 6.06740475e+07 6.02550697e+07 7.94314641e+07\n",
      " 6.98158128e+07 8.90182437e+07 7.48946567e+07 1.08722414e+08\n",
      " 8.11969058e+07 8.93981131e+07 7.56778697e+07 4.69169318e+07\n",
      " 7.86194987e+07 4.46776526e+07 6.79849639e+07 6.20176120e+07\n",
      " 5.12474527e+07 9.26374100e+07 6.24029687e+07 6.40562078e+07\n",
      " 8.21977369e+07 1.15721760e+08 9.25383228e+07 8.36646097e+07\n",
      " 5.21448853e+07 7.25937962e+07 6.78223386e+07 8.00971689e+07\n",
      " 6.87895629e+07 5.86890931e+07 9.81355532e+07 7.44355606e+07\n",
      " 1.22604395e+08 7.85368277e+07 9.01214556e+07 1.02863563e+08\n",
      " 6.44749474e+07 7.22979850e+07 8.98687476e+07 5.72557602e+07\n",
      " 1.09390330e+08 7.56259091e+07 9.61627344e+07 1.05147428e+08\n",
      " 9.59371742e+07 9.40876311e+07 6.57382933e+07 1.27586238e+08\n",
      " 4.95884858e+07 8.58536536e+07 1.40252114e+08 5.12496006e+07\n",
      " 1.08241412e+08 6.90157117e+07 9.59433473e+07 8.31059566e+07\n",
      " 6.09113873e+07 7.78247689e+07 8.61961632e+07 1.13334416e+08\n",
      " 1.19421683e+08 9.09309827e+07 8.65501572e+07 1.08483407e+08\n",
      " 6.86283295e+07 6.92104356e+07 6.73879399e+07 5.30312050e+07\n",
      " 1.08258161e+08 7.42440296e+07 8.09219035e+07 8.12013506e+07\n",
      " 3.87264736e+07 7.95141896e+07 7.41295668e+07 5.82417993e+07\n",
      " 7.58390850e+07 7.87882441e+07 1.05668286e+08 6.20342908e+07\n",
      " 1.10485123e+08 7.92697804e+07 6.05405485e+07 8.14690506e+07\n",
      " 9.17415201e+07 9.93599434e+07 6.93044406e+07 7.01785976e+07\n",
      " 7.74710339e+07 1.16680903e+08 6.34833200e+07 1.04330479e+08\n",
      " 1.23887364e+08 6.24660017e+07 1.20979080e+08 5.85535627e+07\n",
      " 9.17663494e+07 1.15604898e+08 6.20708076e+07 1.40050088e+08\n",
      " 5.71196581e+07 9.99794191e+07 1.25921545e+08 7.52102246e+07\n",
      " 8.47193221e+07 5.49799693e+07 1.02435778e+08 4.82607313e+07\n",
      " 6.23123625e+07 5.90971817e+07 7.81511226e+07 5.95768691e+07\n",
      " 1.19158371e+08 8.23545958e+07 7.77086104e+07 5.68677239e+07\n",
      " 8.59887385e+07 8.64834719e+07 7.07018272e+07 5.50083431e+07\n",
      " 7.57259104e+07 6.87729047e+07 8.65731644e+07 5.86854266e+07\n",
      " 4.46100010e+07 1.23850271e+08 5.85535627e+07 8.70775459e+07\n",
      " 1.08368472e+08 8.20690186e+07 8.68147292e+07 7.92733483e+07\n",
      " 9.06661985e+07 8.57665682e+07 5.97639234e+07 9.13179993e+07\n",
      " 5.92356547e+07 6.14461929e+07 6.22580303e+07 6.70175252e+07\n",
      " 2.06346292e+08 7.26216831e+07 8.98121784e+07 9.76438126e+07\n",
      " 1.07665025e+08 4.52717557e+07 4.87577711e+07 5.70248023e+07\n",
      " 1.04287402e+08 7.22890141e+07 5.25451602e+07 1.03221595e+08\n",
      " 9.48529631e+07 5.88942548e+07 7.83111720e+07 5.88702902e+07\n",
      " 7.78506284e+07 3.39161128e+07 1.05862253e+08 3.29147582e+07\n",
      " 7.34054116e+07 1.30304385e+08 6.81934906e+07 5.40713513e+07\n",
      " 7.38925510e+07 7.82158006e+07 7.02821648e+07 1.05887145e+08\n",
      " 9.38134387e+07 1.04008169e+08 1.00377854e+08 1.15102944e+08\n",
      " 8.21835359e+07 6.88965657e+07 6.59661601e+07 9.10816398e+07\n",
      " 6.99043270e+07 7.15261409e+07 1.00080240e+08 6.28513580e+07\n",
      " 7.48838199e+07 1.07482529e+08 5.29368821e+07 1.14566915e+08\n",
      " 5.41394031e+07 5.49293893e+07 1.08479508e+08 8.22664406e+07\n",
      " 6.93625527e+07 6.76713348e+07 6.14622801e+07 2.82781954e+07\n",
      " 8.58318778e+07 7.94821237e+07 7.57817531e+07 1.04841218e+08\n",
      " 1.13924248e+08 5.73563509e+07 8.13456666e+07 7.92416527e+07\n",
      " 6.00876432e+07 9.00509490e+07 1.48037110e+08 6.53377182e+07\n",
      " 5.32497546e+07 6.70643288e+07 2.76316390e+07 5.16926119e+07\n",
      " 7.80630571e+07 6.83042133e+07 7.80681539e+07 9.01545598e+07\n",
      " 7.24163904e+07 4.59637139e+07 9.76385809e+07 7.07652161e+07\n",
      " 8.16097234e+07 6.42965298e+07 5.16263233e+07 3.96079692e+07\n",
      " 5.92589150e+07 9.30428223e+07 1.22095708e+08 1.02938054e+08\n",
      " 4.83745744e+07 4.80907043e+07 1.03560778e+08 6.50753508e+07\n",
      " 1.05927545e+08 2.97873101e+07 1.00903419e+08 8.71237145e+07\n",
      " 4.04551457e+07 6.02930154e+07 7.59816236e+07 5.91370617e+07\n",
      " 8.01481537e+07 5.60949315e+07 6.72149268e+07 7.47251550e+07\n",
      " 7.27594152e+07 6.60226919e+07 5.61266842e+07 5.80636694e+07\n",
      " 1.02992523e+08 5.57674886e+07 5.64164296e+07 8.60689436e+07\n",
      " 5.41406381e+07 5.31859635e+07 6.19887836e+07 8.85665332e+07\n",
      " 5.19932271e+07 7.79026873e+07 5.40713513e+07 1.13220205e+08\n",
      " 5.85350631e+07 9.87017010e+07 7.35720550e+07 1.22932226e+08\n",
      " 5.75894196e+07 7.33701703e+07 7.58352996e+07 7.27509834e+07\n",
      " 6.95011800e+07 1.07946201e+08 9.16528513e+07 5.76943426e+07\n",
      " 4.15402112e+07 7.02941793e+07 7.15149803e+07 1.13586284e+08\n",
      " 9.95412207e+07 6.07735845e+07 6.16761363e+07 5.46552856e+07\n",
      " 1.11102299e+08 7.04269933e+07 9.29923261e+07 5.63275706e+07\n",
      " 7.95990625e+07 9.03957716e+07 4.54356382e+07 6.35417765e+07\n",
      " 5.82953081e+07 7.39211087e+07 6.31669000e+07 4.55025125e+07\n",
      " 1.44411997e+08 8.69184621e+07 4.86417029e+07 7.11703504e+07\n",
      " 3.09919047e+07 7.90742790e+07 1.07782713e+08 3.69204778e+07\n",
      " 6.28537967e+07 7.89856077e+07 5.87307049e+07 9.07622532e+07\n",
      " 5.36325773e+07 6.84331569e+07 7.93474913e+07 7.49819855e+07\n",
      " 6.63063092e+07 1.38122161e+08 5.89469989e+07 1.01647497e+08\n",
      " 1.02219642e+08 5.29836878e+07 4.97540965e+07 6.17056444e+07\n",
      " 7.38702342e+07 8.30434409e+07 8.62801956e+07 7.17195955e+07\n",
      " 7.83612971e+07 1.05699099e+08 5.68210355e+07 8.88144050e+07\n",
      " 9.87064928e+07 6.54469415e+07 3.98518957e+07 1.10264009e+08\n",
      " 7.06341731e+07 5.76324077e+07 8.22255209e+07 7.25602361e+07\n",
      " 5.10920764e+07 6.00833571e+07 6.57113402e+07 2.98592644e+07\n",
      " 7.67105405e+07 8.88234917e+07 8.92678999e+07 1.04845238e+08\n",
      " 9.22758575e+07 6.70021028e+07 9.25158508e+07 1.02573232e+08\n",
      " 1.00921477e+08 1.44839073e+08 1.06104914e+08 1.10906588e+08\n",
      " 9.19124981e+07 7.72593644e+07 1.24882444e+08 8.50497544e+07\n",
      " 1.40106823e+08 8.79808699e+07 8.17755862e+07 4.94174371e+07\n",
      " 6.80761632e+07 7.68961888e+07 5.26569249e+07 7.34511407e+07\n",
      " 4.89466404e+07 1.38886553e+08 8.61357910e+07 8.22606593e+07\n",
      " 1.01249464e+08 8.70775459e+07 7.73126567e+07 9.54397398e+07\n",
      " 1.19191503e+08 6.70868542e+07 9.37518777e+07 4.98978068e+07\n",
      " 5.49395295e+07 8.97424818e+07 5.99717656e+07 8.60925612e+07\n",
      " 7.24399698e+07 8.63316608e+07 1.24314183e+08 4.50735293e+07\n",
      " 9.83773015e+07 5.40713513e+07 6.95536384e+07 7.45249899e+07\n",
      " 6.35393931e+07 1.28464118e+08 1.22032668e+08 6.73136231e+07\n",
      " 7.17758876e+07 6.81266739e+07 1.05492707e+08 9.46352228e+07\n",
      " 6.12580505e+07 6.67056499e+07 6.41258272e+07 5.78722801e+07\n",
      " 1.02009769e+08 1.19496956e+08 8.63405181e+07 8.18838465e+07\n",
      " 1.02363970e+08 8.61219423e+07 1.00006751e+08 5.90368872e+07\n",
      " 6.05252825e+07 1.12822671e+08 8.87038530e+07 8.57254124e+07\n",
      " 5.86563624e+07 1.04846287e+08 5.39056099e+07 8.10932026e+07\n",
      " 8.66698781e+07 1.04605820e+08 6.35610811e+07 1.12477523e+08\n",
      " 7.08250775e+07 8.64654215e+07 7.08104754e+07 6.16712253e+07\n",
      " 7.01457257e+07 9.02121852e+07 8.67355278e+07 8.17691455e+07\n",
      " 6.74864124e+07 7.05375409e+07 9.06492461e+07 8.37676304e+07\n",
      " 1.10641512e+08 6.05465452e+07 1.22939326e+08 1.11052272e+08\n",
      " 8.33157470e+07 7.40708963e+07 8.39759974e+07 6.98652441e+07\n",
      " 5.86890931e+07 1.54594398e+08 4.53430488e+07 7.12586051e+07\n",
      " 8.18469467e+07 5.60278608e+07 1.02494668e+08 7.60886779e+07\n",
      " 9.82062414e+07 1.14076282e+08 6.89346058e+07 7.51180947e+07\n",
      " 1.19590512e+08 7.18952844e+07 9.74440756e+07 5.84532483e+07\n",
      " 9.82052516e+07 1.04750164e+08 6.70060067e+07 9.59424882e+07\n",
      " 8.31512846e+07 5.70020755e+07 7.87707062e+07 1.08853973e+08\n",
      " 7.38702342e+07 1.32660487e+08 5.45795338e+07 4.93528385e+07\n",
      " 6.15363849e+07 8.03256640e+07 1.06166418e+08 5.42602136e+07\n",
      " 1.13174528e+08 8.23832244e+07 7.10779467e+07 1.07184924e+08\n",
      " 7.70557553e+07 1.17632522e+08 9.06785160e+07 7.60554989e+07\n",
      " 6.47703410e+07 9.32957930e+07 9.89702155e+07 8.86426926e+07\n",
      " 7.04143222e+07 5.85168700e+07 6.30878251e+07 7.44539220e+07\n",
      " 1.09444778e+08 5.84941919e+07 5.81492262e+07 7.03521894e+07\n",
      " 6.37100281e+07 5.96768988e+07 6.68173833e+07 1.24400520e+08\n",
      " 6.81660361e+07 8.99674535e+07 8.19084791e+07 8.38495940e+07\n",
      " 1.00736271e+08 5.28239047e+07 6.01717681e+07 6.92778804e+07\n",
      " 8.45171432e+07 5.56190350e+07 1.41002669e+08 9.47063733e+07\n",
      " 6.92549746e+07 8.74991868e+07 1.43769796e+08 6.44498603e+07\n",
      " 1.03400681e+08 7.56624050e+07 6.89653725e+07 7.88746882e+07\n",
      " 1.07282788e+08 8.27822368e+07 6.49191520e+07 6.02954855e+07\n",
      " 1.12558129e+08 6.21858865e+07 5.76541600e+07 6.09685027e+07\n",
      " 1.00944504e+08 7.84622856e+07 8.92286120e+07 5.78013786e+07\n",
      " 6.62698392e+07 7.98252281e+07 1.23119060e+08 9.23777846e+07\n",
      " 5.40261853e+07 7.67603933e+07 7.23820881e+07 8.12077963e+07\n",
      " 5.18135460e+07 6.32201150e+07 8.61746434e+07 7.70943863e+07\n",
      " 8.73576705e+07 3.96079692e+07 8.19353959e+07 4.34627520e+07\n",
      " 1.16796905e+08 4.77392282e+07 6.93625527e+07 8.26795507e+07\n",
      " 7.70567348e+07 8.49234455e+07 9.10158198e+07 1.04219915e+08\n",
      " 1.16561826e+08 9.23511501e+07 9.44230490e+07 1.26008877e+08\n",
      " 8.51593295e+07 9.32166795e+07 9.69709418e+07 6.54420894e+07\n",
      " 5.74302266e+07 5.73300945e+07]\n"
     ]
    }
   ],
   "source": [
    "print(predictions)"
   ]
  },
  {
   "cell_type": "code",
   "execution_count": 42,
   "metadata": {},
   "outputs": [],
   "source": [
    "my_submission = pd.DataFrame({'Id': test_df.Id, 'SalePrice': predictions})\n",
    "my_submission.to_csv('../datasets/submission.csv')"
   ]
  },
  {
   "cell_type": "code",
   "execution_count": null,
   "metadata": {},
   "outputs": [],
   "source": []
  }
 ],
 "metadata": {
  "kernelspec": {
   "display_name": "Python 3",
   "language": "python",
   "name": "python3"
  },
  "language_info": {
   "codemirror_mode": {
    "name": "ipython",
    "version": 3
   },
   "file_extension": ".py",
   "mimetype": "text/x-python",
   "name": "python",
   "nbconvert_exporter": "python",
   "pygments_lexer": "ipython3",
   "version": "3.7.4"
  }
 },
 "nbformat": 4,
 "nbformat_minor": 2
}
